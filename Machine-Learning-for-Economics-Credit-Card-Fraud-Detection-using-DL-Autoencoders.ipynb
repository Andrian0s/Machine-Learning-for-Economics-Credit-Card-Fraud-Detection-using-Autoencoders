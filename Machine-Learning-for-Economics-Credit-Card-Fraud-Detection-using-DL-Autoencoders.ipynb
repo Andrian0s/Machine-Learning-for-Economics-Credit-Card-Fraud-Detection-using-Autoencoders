{
  "nbformat": 4,
  "nbformat_minor": 0,
  "metadata": {
    "colab": {
      "name": "ML For Econ Assignment 2 Credit Card Fraud Exploration.ipynb",
      "provenance": [],
      "collapsed_sections": [],
      "toc_visible": true
    },
    "kernelspec": {
      "display_name": "Python 3",
      "language": "python",
      "name": "python3"
    },
    "language_info": {
      "codemirror_mode": {
        "name": "ipython",
        "version": 3
      },
      "file_extension": ".py",
      "mimetype": "text/x-python",
      "name": "python",
      "nbconvert_exporter": "python",
      "pygments_lexer": "ipython3",
      "version": "3.7.4"
    }
  },
  "cells": [
    {
      "cell_type": "code",
      "metadata": {
        "id": "ioB8xVzdldkg",
        "colab": {
          "base_uri": "https://localhost:8080/"
        },
        "outputId": "73a174ae-80da-44c6-fe58-0ab08ecb83f5"
      },
      "source": [
        "import numpy as np\n",
        "import pandas as pd\n",
        "import matplotlib.pyplot as plt\n",
        "import seaborn as sns\n",
        "import io\n",
        "\n",
        "from sklearn.model_selection import GridSearchCV\n",
        "from sklearn.model_selection import train_test_split\n",
        "from sklearn.linear_model import LogisticRegression\n",
        "from sklearn.manifold import TSNE\n",
        "from sklearn.metrics import classification_report\n",
        "from sklearn import preprocessing \n",
        "from sklearn.neural_network import MLPClassifier\n",
        "from imblearn.over_sampling import SMOTE\n",
        "from imblearn.under_sampling import RandomUnderSampler\n",
        "from imblearn.pipeline import Pipeline\n",
        "\n",
        "from keras.layers import Input, Dense\n",
        "from keras.models import Model, Sequential\n",
        "from keras import regularizers\n",
        "from keras import optimizers\n",
        "from tensorflow.keras.callbacks import EarlyStopping\n",
        "\n",
        "%matplotlib inline\n",
        "np.set_printoptions(suppress=True, formatter={'float_kind':'{:f}'.format})\n",
        "pd.set_option('display.float_format', lambda x: '%.3f' % x)\n",
        "pd.set_option('use_inf_as_na', True)\n",
        "from google.colab import files\n",
        "\n",
        "NON_FRAUD = 0\n",
        "FRAUD = 1"
      ],
      "execution_count": null,
      "outputs": [
        {
          "output_type": "stream",
          "text": [
            "/usr/local/lib/python3.6/dist-packages/sklearn/externals/six.py:31: FutureWarning: The module is deprecated in version 0.21 and will be removed in version 0.23 since we've dropped support for Python 2.7. Please rely on the official version of six (https://pypi.org/project/six/).\n",
            "  \"(https://pypi.org/project/six/).\", FutureWarning)\n",
            "/usr/local/lib/python3.6/dist-packages/sklearn/utils/deprecation.py:144: FutureWarning: The sklearn.neighbors.base module is  deprecated in version 0.22 and will be removed in version 0.24. The corresponding classes / functions should instead be imported from sklearn.neighbors. Anything that cannot be imported from sklearn.neighbors is now part of the private API.\n",
            "  warnings.warn(message, FutureWarning)\n"
          ],
          "name": "stderr"
        }
      ]
    },
    {
      "cell_type": "code",
      "metadata": {
        "id": "wxf666B1jAtd"
      },
      "source": [
        "def tsne_plot(x1, y1, name=\"graph.png\"):\r\n",
        "    # produces a t-Distributed Stochastic Neighbor Embedding plot. Used to viusalise data\r\n",
        "    tsne = TSNE(n_components=2, random_state=0)\r\n",
        "    X_t = tsne.fit_transform(x1)\r\n",
        "\r\n",
        "    plt.figure(figsize=(12, 8))\r\n",
        "    plt.scatter(X_t[np.where(y1 == 0), 0], X_t[np.where(y1 == 0), 1], marker='o', color='g', linewidth='1', alpha=0.8, label='Non Fraud')\r\n",
        "    plt.scatter(X_t[np.where(y1 == 1), 0], X_t[np.where(y1 == 1), 1], marker='o', color='b', linewidth='1', alpha=0.8, label='Fraud')\r\n",
        "\r\n",
        "    plt.legend(loc='best');\r\n",
        "    plt.savefig(name);\r\n",
        "    plt.show();"
      ],
      "execution_count": null,
      "outputs": []
    },
    {
      "cell_type": "code",
      "metadata": {
        "id": "XafgWzh5yBuE",
        "colab": {
          "resources": {
            "http://localhost:8080/nbextensions/google.colab/files.js": {
              "data": "Ly8gQ29weXJpZ2h0IDIwMTcgR29vZ2xlIExMQwovLwovLyBMaWNlbnNlZCB1bmRlciB0aGUgQXBhY2hlIExpY2Vuc2UsIFZlcnNpb24gMi4wICh0aGUgIkxpY2Vuc2UiKTsKLy8geW91IG1heSBub3QgdXNlIHRoaXMgZmlsZSBleGNlcHQgaW4gY29tcGxpYW5jZSB3aXRoIHRoZSBMaWNlbnNlLgovLyBZb3UgbWF5IG9idGFpbiBhIGNvcHkgb2YgdGhlIExpY2Vuc2UgYXQKLy8KLy8gICAgICBodHRwOi8vd3d3LmFwYWNoZS5vcmcvbGljZW5zZXMvTElDRU5TRS0yLjAKLy8KLy8gVW5sZXNzIHJlcXVpcmVkIGJ5IGFwcGxpY2FibGUgbGF3IG9yIGFncmVlZCB0byBpbiB3cml0aW5nLCBzb2Z0d2FyZQovLyBkaXN0cmlidXRlZCB1bmRlciB0aGUgTGljZW5zZSBpcyBkaXN0cmlidXRlZCBvbiBhbiAiQVMgSVMiIEJBU0lTLAovLyBXSVRIT1VUIFdBUlJBTlRJRVMgT1IgQ09ORElUSU9OUyBPRiBBTlkgS0lORCwgZWl0aGVyIGV4cHJlc3Mgb3IgaW1wbGllZC4KLy8gU2VlIHRoZSBMaWNlbnNlIGZvciB0aGUgc3BlY2lmaWMgbGFuZ3VhZ2UgZ292ZXJuaW5nIHBlcm1pc3Npb25zIGFuZAovLyBsaW1pdGF0aW9ucyB1bmRlciB0aGUgTGljZW5zZS4KCi8qKgogKiBAZmlsZW92ZXJ2aWV3IEhlbHBlcnMgZm9yIGdvb2dsZS5jb2xhYiBQeXRob24gbW9kdWxlLgogKi8KKGZ1bmN0aW9uKHNjb3BlKSB7CmZ1bmN0aW9uIHNwYW4odGV4dCwgc3R5bGVBdHRyaWJ1dGVzID0ge30pIHsKICBjb25zdCBlbGVtZW50ID0gZG9jdW1lbnQuY3JlYXRlRWxlbWVudCgnc3BhbicpOwogIGVsZW1lbnQudGV4dENvbnRlbnQgPSB0ZXh0OwogIGZvciAoY29uc3Qga2V5IG9mIE9iamVjdC5rZXlzKHN0eWxlQXR0cmlidXRlcykpIHsKICAgIGVsZW1lbnQuc3R5bGVba2V5XSA9IHN0eWxlQXR0cmlidXRlc1trZXldOwogIH0KICByZXR1cm4gZWxlbWVudDsKfQoKLy8gTWF4IG51bWJlciBvZiBieXRlcyB3aGljaCB3aWxsIGJlIHVwbG9hZGVkIGF0IGEgdGltZS4KY29uc3QgTUFYX1BBWUxPQURfU0laRSA9IDEwMCAqIDEwMjQ7CgpmdW5jdGlvbiBfdXBsb2FkRmlsZXMoaW5wdXRJZCwgb3V0cHV0SWQpIHsKICBjb25zdCBzdGVwcyA9IHVwbG9hZEZpbGVzU3RlcChpbnB1dElkLCBvdXRwdXRJZCk7CiAgY29uc3Qgb3V0cHV0RWxlbWVudCA9IGRvY3VtZW50LmdldEVsZW1lbnRCeUlkKG91dHB1dElkKTsKICAvLyBDYWNoZSBzdGVwcyBvbiB0aGUgb3V0cHV0RWxlbWVudCB0byBtYWtlIGl0IGF2YWlsYWJsZSBmb3IgdGhlIG5leHQgY2FsbAogIC8vIHRvIHVwbG9hZEZpbGVzQ29udGludWUgZnJvbSBQeXRob24uCiAgb3V0cHV0RWxlbWVudC5zdGVwcyA9IHN0ZXBzOwoKICByZXR1cm4gX3VwbG9hZEZpbGVzQ29udGludWUob3V0cHV0SWQpOwp9CgovLyBUaGlzIGlzIHJvdWdobHkgYW4gYXN5bmMgZ2VuZXJhdG9yIChub3Qgc3VwcG9ydGVkIGluIHRoZSBicm93c2VyIHlldCksCi8vIHdoZXJlIHRoZXJlIGFyZSBtdWx0aXBsZSBhc3luY2hyb25vdXMgc3RlcHMgYW5kIHRoZSBQeXRob24gc2lkZSBpcyBnb2luZwovLyB0byBwb2xsIGZvciBjb21wbGV0aW9uIG9mIGVhY2ggc3RlcC4KLy8gVGhpcyB1c2VzIGEgUHJvbWlzZSB0byBibG9jayB0aGUgcHl0aG9uIHNpZGUgb24gY29tcGxldGlvbiBvZiBlYWNoIHN0ZXAsCi8vIHRoZW4gcGFzc2VzIHRoZSByZXN1bHQgb2YgdGhlIHByZXZpb3VzIHN0ZXAgYXMgdGhlIGlucHV0IHRvIHRoZSBuZXh0IHN0ZXAuCmZ1bmN0aW9uIF91cGxvYWRGaWxlc0NvbnRpbnVlKG91dHB1dElkKSB7CiAgY29uc3Qgb3V0cHV0RWxlbWVudCA9IGRvY3VtZW50LmdldEVsZW1lbnRCeUlkKG91dHB1dElkKTsKICBjb25zdCBzdGVwcyA9IG91dHB1dEVsZW1lbnQuc3RlcHM7CgogIGNvbnN0IG5leHQgPSBzdGVwcy5uZXh0KG91dHB1dEVsZW1lbnQubGFzdFByb21pc2VWYWx1ZSk7CiAgcmV0dXJuIFByb21pc2UucmVzb2x2ZShuZXh0LnZhbHVlLnByb21pc2UpLnRoZW4oKHZhbHVlKSA9PiB7CiAgICAvLyBDYWNoZSB0aGUgbGFzdCBwcm9taXNlIHZhbHVlIHRvIG1ha2UgaXQgYXZhaWxhYmxlIHRvIHRoZSBuZXh0CiAgICAvLyBzdGVwIG9mIHRoZSBnZW5lcmF0b3IuCiAgICBvdXRwdXRFbGVtZW50Lmxhc3RQcm9taXNlVmFsdWUgPSB2YWx1ZTsKICAgIHJldHVybiBuZXh0LnZhbHVlLnJlc3BvbnNlOwogIH0pOwp9CgovKioKICogR2VuZXJhdG9yIGZ1bmN0aW9uIHdoaWNoIGlzIGNhbGxlZCBiZXR3ZWVuIGVhY2ggYXN5bmMgc3RlcCBvZiB0aGUgdXBsb2FkCiAqIHByb2Nlc3MuCiAqIEBwYXJhbSB7c3RyaW5nfSBpbnB1dElkIEVsZW1lbnQgSUQgb2YgdGhlIGlucHV0IGZpbGUgcGlja2VyIGVsZW1lbnQuCiAqIEBwYXJhbSB7c3RyaW5nfSBvdXRwdXRJZCBFbGVtZW50IElEIG9mIHRoZSBvdXRwdXQgZGlzcGxheS4KICogQHJldHVybiB7IUl0ZXJhYmxlPCFPYmplY3Q+fSBJdGVyYWJsZSBvZiBuZXh0IHN0ZXBzLgogKi8KZnVuY3Rpb24qIHVwbG9hZEZpbGVzU3RlcChpbnB1dElkLCBvdXRwdXRJZCkgewogIGNvbnN0IGlucHV0RWxlbWVudCA9IGRvY3VtZW50LmdldEVsZW1lbnRCeUlkKGlucHV0SWQpOwogIGlucHV0RWxlbWVudC5kaXNhYmxlZCA9IGZhbHNlOwoKICBjb25zdCBvdXRwdXRFbGVtZW50ID0gZG9jdW1lbnQuZ2V0RWxlbWVudEJ5SWQob3V0cHV0SWQpOwogIG91dHB1dEVsZW1lbnQuaW5uZXJIVE1MID0gJyc7CgogIGNvbnN0IHBpY2tlZFByb21pc2UgPSBuZXcgUHJvbWlzZSgocmVzb2x2ZSkgPT4gewogICAgaW5wdXRFbGVtZW50LmFkZEV2ZW50TGlzdGVuZXIoJ2NoYW5nZScsIChlKSA9PiB7CiAgICAgIHJlc29sdmUoZS50YXJnZXQuZmlsZXMpOwogICAgfSk7CiAgfSk7CgogIGNvbnN0IGNhbmNlbCA9IGRvY3VtZW50LmNyZWF0ZUVsZW1lbnQoJ2J1dHRvbicpOwogIGlucHV0RWxlbWVudC5wYXJlbnRFbGVtZW50LmFwcGVuZENoaWxkKGNhbmNlbCk7CiAgY2FuY2VsLnRleHRDb250ZW50ID0gJ0NhbmNlbCB1cGxvYWQnOwogIGNvbnN0IGNhbmNlbFByb21pc2UgPSBuZXcgUHJvbWlzZSgocmVzb2x2ZSkgPT4gewogICAgY2FuY2VsLm9uY2xpY2sgPSAoKSA9PiB7CiAgICAgIHJlc29sdmUobnVsbCk7CiAgICB9OwogIH0pOwoKICAvLyBXYWl0IGZvciB0aGUgdXNlciB0byBwaWNrIHRoZSBmaWxlcy4KICBjb25zdCBmaWxlcyA9IHlpZWxkIHsKICAgIHByb21pc2U6IFByb21pc2UucmFjZShbcGlja2VkUHJvbWlzZSwgY2FuY2VsUHJvbWlzZV0pLAogICAgcmVzcG9uc2U6IHsKICAgICAgYWN0aW9uOiAnc3RhcnRpbmcnLAogICAgfQogIH07CgogIGNhbmNlbC5yZW1vdmUoKTsKCiAgLy8gRGlzYWJsZSB0aGUgaW5wdXQgZWxlbWVudCBzaW5jZSBmdXJ0aGVyIHBpY2tzIGFyZSBub3QgYWxsb3dlZC4KICBpbnB1dEVsZW1lbnQuZGlzYWJsZWQgPSB0cnVlOwoKICBpZiAoIWZpbGVzKSB7CiAgICByZXR1cm4gewogICAgICByZXNwb25zZTogewogICAgICAgIGFjdGlvbjogJ2NvbXBsZXRlJywKICAgICAgfQogICAgfTsKICB9CgogIGZvciAoY29uc3QgZmlsZSBvZiBmaWxlcykgewogICAgY29uc3QgbGkgPSBkb2N1bWVudC5jcmVhdGVFbGVtZW50KCdsaScpOwogICAgbGkuYXBwZW5kKHNwYW4oZmlsZS5uYW1lLCB7Zm9udFdlaWdodDogJ2JvbGQnfSkpOwogICAgbGkuYXBwZW5kKHNwYW4oCiAgICAgICAgYCgke2ZpbGUudHlwZSB8fCAnbi9hJ30pIC0gJHtmaWxlLnNpemV9IGJ5dGVzLCBgICsKICAgICAgICBgbGFzdCBtb2RpZmllZDogJHsKICAgICAgICAgICAgZmlsZS5sYXN0TW9kaWZpZWREYXRlID8gZmlsZS5sYXN0TW9kaWZpZWREYXRlLnRvTG9jYWxlRGF0ZVN0cmluZygpIDoKICAgICAgICAgICAgICAgICAgICAgICAgICAgICAgICAgICAgJ24vYSd9IC0gYCkpOwogICAgY29uc3QgcGVyY2VudCA9IHNwYW4oJzAlIGRvbmUnKTsKICAgIGxpLmFwcGVuZENoaWxkKHBlcmNlbnQpOwoKICAgIG91dHB1dEVsZW1lbnQuYXBwZW5kQ2hpbGQobGkpOwoKICAgIGNvbnN0IGZpbGVEYXRhUHJvbWlzZSA9IG5ldyBQcm9taXNlKChyZXNvbHZlKSA9PiB7CiAgICAgIGNvbnN0IHJlYWRlciA9IG5ldyBGaWxlUmVhZGVyKCk7CiAgICAgIHJlYWRlci5vbmxvYWQgPSAoZSkgPT4gewogICAgICAgIHJlc29sdmUoZS50YXJnZXQucmVzdWx0KTsKICAgICAgfTsKICAgICAgcmVhZGVyLnJlYWRBc0FycmF5QnVmZmVyKGZpbGUpOwogICAgfSk7CiAgICAvLyBXYWl0IGZvciB0aGUgZGF0YSB0byBiZSByZWFkeS4KICAgIGxldCBmaWxlRGF0YSA9IHlpZWxkIHsKICAgICAgcHJvbWlzZTogZmlsZURhdGFQcm9taXNlLAogICAgICByZXNwb25zZTogewogICAgICAgIGFjdGlvbjogJ2NvbnRpbnVlJywKICAgICAgfQogICAgfTsKCiAgICAvLyBVc2UgYSBjaHVua2VkIHNlbmRpbmcgdG8gYXZvaWQgbWVzc2FnZSBzaXplIGxpbWl0cy4gU2VlIGIvNjIxMTU2NjAuCiAgICBsZXQgcG9zaXRpb24gPSAwOwogICAgd2hpbGUgKHBvc2l0aW9uIDwgZmlsZURhdGEuYnl0ZUxlbmd0aCkgewogICAgICBjb25zdCBsZW5ndGggPSBNYXRoLm1pbihmaWxlRGF0YS5ieXRlTGVuZ3RoIC0gcG9zaXRpb24sIE1BWF9QQVlMT0FEX1NJWkUpOwogICAgICBjb25zdCBjaHVuayA9IG5ldyBVaW50OEFycmF5KGZpbGVEYXRhLCBwb3NpdGlvbiwgbGVuZ3RoKTsKICAgICAgcG9zaXRpb24gKz0gbGVuZ3RoOwoKICAgICAgY29uc3QgYmFzZTY0ID0gYnRvYShTdHJpbmcuZnJvbUNoYXJDb2RlLmFwcGx5KG51bGwsIGNodW5rKSk7CiAgICAgIHlpZWxkIHsKICAgICAgICByZXNwb25zZTogewogICAgICAgICAgYWN0aW9uOiAnYXBwZW5kJywKICAgICAgICAgIGZpbGU6IGZpbGUubmFtZSwKICAgICAgICAgIGRhdGE6IGJhc2U2NCwKICAgICAgICB9LAogICAgICB9OwogICAgICBwZXJjZW50LnRleHRDb250ZW50ID0KICAgICAgICAgIGAke01hdGgucm91bmQoKHBvc2l0aW9uIC8gZmlsZURhdGEuYnl0ZUxlbmd0aCkgKiAxMDApfSUgZG9uZWA7CiAgICB9CiAgfQoKICAvLyBBbGwgZG9uZS4KICB5aWVsZCB7CiAgICByZXNwb25zZTogewogICAgICBhY3Rpb246ICdjb21wbGV0ZScsCiAgICB9CiAgfTsKfQoKc2NvcGUuZ29vZ2xlID0gc2NvcGUuZ29vZ2xlIHx8IHt9OwpzY29wZS5nb29nbGUuY29sYWIgPSBzY29wZS5nb29nbGUuY29sYWIgfHwge307CnNjb3BlLmdvb2dsZS5jb2xhYi5fZmlsZXMgPSB7CiAgX3VwbG9hZEZpbGVzLAogIF91cGxvYWRGaWxlc0NvbnRpbnVlLAp9Owp9KShzZWxmKTsK",
              "ok": true,
              "headers": [
                [
                  "content-type",
                  "application/javascript"
                ]
              ],
              "status": 200,
              "status_text": ""
            }
          },
          "base_uri": "https://localhost:8080/",
          "height": 70
        },
        "outputId": "b14c01e2-fd56-4dc2-ae74-efb0cdb74826"
      },
      "source": [
        "uploaded = files.upload()"
      ],
      "execution_count": null,
      "outputs": [
        {
          "output_type": "display_data",
          "data": {
            "text/html": [
              "\n",
              "     <input type=\"file\" id=\"files-b10fa80c-9f12-4aef-8760-51f7ae2e2a2d\" name=\"files[]\" multiple disabled\n",
              "        style=\"border:none\" />\n",
              "     <output id=\"result-b10fa80c-9f12-4aef-8760-51f7ae2e2a2d\">\n",
              "      Upload widget is only available when the cell has been executed in the\n",
              "      current browser session. Please rerun this cell to enable.\n",
              "      </output>\n",
              "      <script src=\"/nbextensions/google.colab/files.js\"></script> "
            ],
            "text/plain": [
              "<IPython.core.display.HTML object>"
            ]
          },
          "metadata": {
            "tags": []
          }
        },
        {
          "output_type": "stream",
          "text": [
            "Saving creditcard.csv to creditcard.csv\n"
          ],
          "name": "stdout"
        }
      ]
    },
    {
      "cell_type": "markdown",
      "metadata": {
        "id": "QtwDXBcHhgk6"
      },
      "source": [
        "# Preprocessing #"
      ]
    },
    {
      "cell_type": "code",
      "metadata": {
        "colab": {
          "base_uri": "https://localhost:8080/",
          "height": 392
        },
        "id": "0X0VLYe0ldkn",
        "outputId": "3edd02fc-aea4-4f62-ab81-80b456eba919"
      },
      "source": [
        "# df = pd.read_csv(io.BytesIO(uploaded['creditcard.csv']))\n",
        "df = pd.read_csv('creditcard.csv')\n",
        "df[\"Time\"] = df[\"Time\"].apply(lambda x : x / 3600 % 24) # normalising time to hour of the day\n",
        "df"
      ],
      "execution_count": null,
      "outputs": [
        {
          "output_type": "execute_result",
          "data": {
            "text/html": [
              "<div>\n",
              "<style scoped>\n",
              "    .dataframe tbody tr th:only-of-type {\n",
              "        vertical-align: middle;\n",
              "    }\n",
              "\n",
              "    .dataframe tbody tr th {\n",
              "        vertical-align: top;\n",
              "    }\n",
              "\n",
              "    .dataframe thead th {\n",
              "        text-align: right;\n",
              "    }\n",
              "</style>\n",
              "<table border=\"1\" class=\"dataframe\">\n",
              "  <thead>\n",
              "    <tr style=\"text-align: right;\">\n",
              "      <th></th>\n",
              "      <th>Time</th>\n",
              "      <th>V1</th>\n",
              "      <th>V2</th>\n",
              "      <th>V3</th>\n",
              "      <th>V4</th>\n",
              "      <th>V5</th>\n",
              "      <th>V6</th>\n",
              "      <th>V7</th>\n",
              "      <th>V8</th>\n",
              "      <th>V9</th>\n",
              "      <th>V10</th>\n",
              "      <th>V11</th>\n",
              "      <th>V12</th>\n",
              "      <th>V13</th>\n",
              "      <th>V14</th>\n",
              "      <th>V15</th>\n",
              "      <th>V16</th>\n",
              "      <th>V17</th>\n",
              "      <th>V18</th>\n",
              "      <th>V19</th>\n",
              "      <th>V20</th>\n",
              "      <th>V21</th>\n",
              "      <th>V22</th>\n",
              "      <th>V23</th>\n",
              "      <th>V24</th>\n",
              "      <th>V25</th>\n",
              "      <th>V26</th>\n",
              "      <th>V27</th>\n",
              "      <th>V28</th>\n",
              "      <th>Amount</th>\n",
              "      <th>Class</th>\n",
              "    </tr>\n",
              "  </thead>\n",
              "  <tbody>\n",
              "    <tr>\n",
              "      <th>0</th>\n",
              "      <td>0.000</td>\n",
              "      <td>-1.360</td>\n",
              "      <td>-0.073</td>\n",
              "      <td>2.536</td>\n",
              "      <td>1.378</td>\n",
              "      <td>-0.338</td>\n",
              "      <td>0.462</td>\n",
              "      <td>0.240</td>\n",
              "      <td>0.099</td>\n",
              "      <td>0.364</td>\n",
              "      <td>0.091</td>\n",
              "      <td>-0.552</td>\n",
              "      <td>-0.618</td>\n",
              "      <td>-0.991</td>\n",
              "      <td>-0.311</td>\n",
              "      <td>1.468</td>\n",
              "      <td>-0.470</td>\n",
              "      <td>0.208</td>\n",
              "      <td>0.026</td>\n",
              "      <td>0.404</td>\n",
              "      <td>0.251</td>\n",
              "      <td>-0.018</td>\n",
              "      <td>0.278</td>\n",
              "      <td>-0.110</td>\n",
              "      <td>0.067</td>\n",
              "      <td>0.129</td>\n",
              "      <td>-0.189</td>\n",
              "      <td>0.134</td>\n",
              "      <td>-0.021</td>\n",
              "      <td>149.620</td>\n",
              "      <td>0</td>\n",
              "    </tr>\n",
              "    <tr>\n",
              "      <th>1</th>\n",
              "      <td>0.000</td>\n",
              "      <td>1.192</td>\n",
              "      <td>0.266</td>\n",
              "      <td>0.166</td>\n",
              "      <td>0.448</td>\n",
              "      <td>0.060</td>\n",
              "      <td>-0.082</td>\n",
              "      <td>-0.079</td>\n",
              "      <td>0.085</td>\n",
              "      <td>-0.255</td>\n",
              "      <td>-0.167</td>\n",
              "      <td>1.613</td>\n",
              "      <td>1.065</td>\n",
              "      <td>0.489</td>\n",
              "      <td>-0.144</td>\n",
              "      <td>0.636</td>\n",
              "      <td>0.464</td>\n",
              "      <td>-0.115</td>\n",
              "      <td>-0.183</td>\n",
              "      <td>-0.146</td>\n",
              "      <td>-0.069</td>\n",
              "      <td>-0.226</td>\n",
              "      <td>-0.639</td>\n",
              "      <td>0.101</td>\n",
              "      <td>-0.340</td>\n",
              "      <td>0.167</td>\n",
              "      <td>0.126</td>\n",
              "      <td>-0.009</td>\n",
              "      <td>0.015</td>\n",
              "      <td>2.690</td>\n",
              "      <td>0</td>\n",
              "    </tr>\n",
              "    <tr>\n",
              "      <th>2</th>\n",
              "      <td>0.000</td>\n",
              "      <td>-1.358</td>\n",
              "      <td>-1.340</td>\n",
              "      <td>1.773</td>\n",
              "      <td>0.380</td>\n",
              "      <td>-0.503</td>\n",
              "      <td>1.800</td>\n",
              "      <td>0.791</td>\n",
              "      <td>0.248</td>\n",
              "      <td>-1.515</td>\n",
              "      <td>0.208</td>\n",
              "      <td>0.625</td>\n",
              "      <td>0.066</td>\n",
              "      <td>0.717</td>\n",
              "      <td>-0.166</td>\n",
              "      <td>2.346</td>\n",
              "      <td>-2.890</td>\n",
              "      <td>1.110</td>\n",
              "      <td>-0.121</td>\n",
              "      <td>-2.262</td>\n",
              "      <td>0.525</td>\n",
              "      <td>0.248</td>\n",
              "      <td>0.772</td>\n",
              "      <td>0.909</td>\n",
              "      <td>-0.689</td>\n",
              "      <td>-0.328</td>\n",
              "      <td>-0.139</td>\n",
              "      <td>-0.055</td>\n",
              "      <td>-0.060</td>\n",
              "      <td>378.660</td>\n",
              "      <td>0</td>\n",
              "    </tr>\n",
              "    <tr>\n",
              "      <th>3</th>\n",
              "      <td>0.000</td>\n",
              "      <td>-0.966</td>\n",
              "      <td>-0.185</td>\n",
              "      <td>1.793</td>\n",
              "      <td>-0.863</td>\n",
              "      <td>-0.010</td>\n",
              "      <td>1.247</td>\n",
              "      <td>0.238</td>\n",
              "      <td>0.377</td>\n",
              "      <td>-1.387</td>\n",
              "      <td>-0.055</td>\n",
              "      <td>-0.226</td>\n",
              "      <td>0.178</td>\n",
              "      <td>0.508</td>\n",
              "      <td>-0.288</td>\n",
              "      <td>-0.631</td>\n",
              "      <td>-1.060</td>\n",
              "      <td>-0.684</td>\n",
              "      <td>1.966</td>\n",
              "      <td>-1.233</td>\n",
              "      <td>-0.208</td>\n",
              "      <td>-0.108</td>\n",
              "      <td>0.005</td>\n",
              "      <td>-0.190</td>\n",
              "      <td>-1.176</td>\n",
              "      <td>0.647</td>\n",
              "      <td>-0.222</td>\n",
              "      <td>0.063</td>\n",
              "      <td>0.061</td>\n",
              "      <td>123.500</td>\n",
              "      <td>0</td>\n",
              "    </tr>\n",
              "    <tr>\n",
              "      <th>4</th>\n",
              "      <td>0.001</td>\n",
              "      <td>-1.158</td>\n",
              "      <td>0.878</td>\n",
              "      <td>1.549</td>\n",
              "      <td>0.403</td>\n",
              "      <td>-0.407</td>\n",
              "      <td>0.096</td>\n",
              "      <td>0.593</td>\n",
              "      <td>-0.271</td>\n",
              "      <td>0.818</td>\n",
              "      <td>0.753</td>\n",
              "      <td>-0.823</td>\n",
              "      <td>0.538</td>\n",
              "      <td>1.346</td>\n",
              "      <td>-1.120</td>\n",
              "      <td>0.175</td>\n",
              "      <td>-0.451</td>\n",
              "      <td>-0.237</td>\n",
              "      <td>-0.038</td>\n",
              "      <td>0.803</td>\n",
              "      <td>0.409</td>\n",
              "      <td>-0.009</td>\n",
              "      <td>0.798</td>\n",
              "      <td>-0.137</td>\n",
              "      <td>0.141</td>\n",
              "      <td>-0.206</td>\n",
              "      <td>0.502</td>\n",
              "      <td>0.219</td>\n",
              "      <td>0.215</td>\n",
              "      <td>69.990</td>\n",
              "      <td>0</td>\n",
              "    </tr>\n",
              "    <tr>\n",
              "      <th>...</th>\n",
              "      <td>...</td>\n",
              "      <td>...</td>\n",
              "      <td>...</td>\n",
              "      <td>...</td>\n",
              "      <td>...</td>\n",
              "      <td>...</td>\n",
              "      <td>...</td>\n",
              "      <td>...</td>\n",
              "      <td>...</td>\n",
              "      <td>...</td>\n",
              "      <td>...</td>\n",
              "      <td>...</td>\n",
              "      <td>...</td>\n",
              "      <td>...</td>\n",
              "      <td>...</td>\n",
              "      <td>...</td>\n",
              "      <td>...</td>\n",
              "      <td>...</td>\n",
              "      <td>...</td>\n",
              "      <td>...</td>\n",
              "      <td>...</td>\n",
              "      <td>...</td>\n",
              "      <td>...</td>\n",
              "      <td>...</td>\n",
              "      <td>...</td>\n",
              "      <td>...</td>\n",
              "      <td>...</td>\n",
              "      <td>...</td>\n",
              "      <td>...</td>\n",
              "      <td>...</td>\n",
              "      <td>...</td>\n",
              "    </tr>\n",
              "    <tr>\n",
              "      <th>284802</th>\n",
              "      <td>23.996</td>\n",
              "      <td>-11.881</td>\n",
              "      <td>10.072</td>\n",
              "      <td>-9.835</td>\n",
              "      <td>-2.067</td>\n",
              "      <td>-5.364</td>\n",
              "      <td>-2.607</td>\n",
              "      <td>-4.918</td>\n",
              "      <td>7.305</td>\n",
              "      <td>1.914</td>\n",
              "      <td>4.356</td>\n",
              "      <td>-1.593</td>\n",
              "      <td>2.712</td>\n",
              "      <td>-0.689</td>\n",
              "      <td>4.627</td>\n",
              "      <td>-0.924</td>\n",
              "      <td>1.108</td>\n",
              "      <td>1.992</td>\n",
              "      <td>0.511</td>\n",
              "      <td>-0.683</td>\n",
              "      <td>1.476</td>\n",
              "      <td>0.213</td>\n",
              "      <td>0.112</td>\n",
              "      <td>1.014</td>\n",
              "      <td>-0.509</td>\n",
              "      <td>1.437</td>\n",
              "      <td>0.250</td>\n",
              "      <td>0.944</td>\n",
              "      <td>0.824</td>\n",
              "      <td>0.770</td>\n",
              "      <td>0</td>\n",
              "    </tr>\n",
              "    <tr>\n",
              "      <th>284803</th>\n",
              "      <td>23.996</td>\n",
              "      <td>-0.733</td>\n",
              "      <td>-0.055</td>\n",
              "      <td>2.035</td>\n",
              "      <td>-0.739</td>\n",
              "      <td>0.868</td>\n",
              "      <td>1.058</td>\n",
              "      <td>0.024</td>\n",
              "      <td>0.295</td>\n",
              "      <td>0.585</td>\n",
              "      <td>-0.976</td>\n",
              "      <td>-0.150</td>\n",
              "      <td>0.916</td>\n",
              "      <td>1.215</td>\n",
              "      <td>-0.675</td>\n",
              "      <td>1.165</td>\n",
              "      <td>-0.712</td>\n",
              "      <td>-0.026</td>\n",
              "      <td>-1.221</td>\n",
              "      <td>-1.546</td>\n",
              "      <td>0.060</td>\n",
              "      <td>0.214</td>\n",
              "      <td>0.924</td>\n",
              "      <td>0.012</td>\n",
              "      <td>-1.016</td>\n",
              "      <td>-0.607</td>\n",
              "      <td>-0.395</td>\n",
              "      <td>0.068</td>\n",
              "      <td>-0.054</td>\n",
              "      <td>24.790</td>\n",
              "      <td>0</td>\n",
              "    </tr>\n",
              "    <tr>\n",
              "      <th>284804</th>\n",
              "      <td>23.997</td>\n",
              "      <td>1.920</td>\n",
              "      <td>-0.301</td>\n",
              "      <td>-3.250</td>\n",
              "      <td>-0.558</td>\n",
              "      <td>2.631</td>\n",
              "      <td>3.031</td>\n",
              "      <td>-0.297</td>\n",
              "      <td>0.708</td>\n",
              "      <td>0.432</td>\n",
              "      <td>-0.485</td>\n",
              "      <td>0.412</td>\n",
              "      <td>0.063</td>\n",
              "      <td>-0.184</td>\n",
              "      <td>-0.511</td>\n",
              "      <td>1.329</td>\n",
              "      <td>0.141</td>\n",
              "      <td>0.314</td>\n",
              "      <td>0.396</td>\n",
              "      <td>-0.577</td>\n",
              "      <td>0.001</td>\n",
              "      <td>0.232</td>\n",
              "      <td>0.578</td>\n",
              "      <td>-0.038</td>\n",
              "      <td>0.640</td>\n",
              "      <td>0.266</td>\n",
              "      <td>-0.087</td>\n",
              "      <td>0.004</td>\n",
              "      <td>-0.027</td>\n",
              "      <td>67.880</td>\n",
              "      <td>0</td>\n",
              "    </tr>\n",
              "    <tr>\n",
              "      <th>284805</th>\n",
              "      <td>23.997</td>\n",
              "      <td>-0.240</td>\n",
              "      <td>0.530</td>\n",
              "      <td>0.703</td>\n",
              "      <td>0.690</td>\n",
              "      <td>-0.378</td>\n",
              "      <td>0.624</td>\n",
              "      <td>-0.686</td>\n",
              "      <td>0.679</td>\n",
              "      <td>0.392</td>\n",
              "      <td>-0.399</td>\n",
              "      <td>-1.934</td>\n",
              "      <td>-0.963</td>\n",
              "      <td>-1.042</td>\n",
              "      <td>0.450</td>\n",
              "      <td>1.963</td>\n",
              "      <td>-0.609</td>\n",
              "      <td>0.510</td>\n",
              "      <td>1.114</td>\n",
              "      <td>2.898</td>\n",
              "      <td>0.127</td>\n",
              "      <td>0.265</td>\n",
              "      <td>0.800</td>\n",
              "      <td>-0.163</td>\n",
              "      <td>0.123</td>\n",
              "      <td>-0.569</td>\n",
              "      <td>0.547</td>\n",
              "      <td>0.109</td>\n",
              "      <td>0.105</td>\n",
              "      <td>10.000</td>\n",
              "      <td>0</td>\n",
              "    </tr>\n",
              "    <tr>\n",
              "      <th>284806</th>\n",
              "      <td>23.998</td>\n",
              "      <td>-0.533</td>\n",
              "      <td>-0.190</td>\n",
              "      <td>0.703</td>\n",
              "      <td>-0.506</td>\n",
              "      <td>-0.013</td>\n",
              "      <td>-0.650</td>\n",
              "      <td>1.577</td>\n",
              "      <td>-0.415</td>\n",
              "      <td>0.486</td>\n",
              "      <td>-0.915</td>\n",
              "      <td>-1.040</td>\n",
              "      <td>-0.032</td>\n",
              "      <td>-0.188</td>\n",
              "      <td>-0.084</td>\n",
              "      <td>0.041</td>\n",
              "      <td>-0.303</td>\n",
              "      <td>-0.660</td>\n",
              "      <td>0.167</td>\n",
              "      <td>-0.256</td>\n",
              "      <td>0.383</td>\n",
              "      <td>0.261</td>\n",
              "      <td>0.643</td>\n",
              "      <td>0.377</td>\n",
              "      <td>0.009</td>\n",
              "      <td>-0.474</td>\n",
              "      <td>-0.818</td>\n",
              "      <td>-0.002</td>\n",
              "      <td>0.014</td>\n",
              "      <td>217.000</td>\n",
              "      <td>0</td>\n",
              "    </tr>\n",
              "  </tbody>\n",
              "</table>\n",
              "<p>284807 rows × 31 columns</p>\n",
              "</div>"
            ],
            "text/plain": [
              "         Time      V1     V2     V3     V4  ...    V26    V27    V28  Amount  Class\n",
              "0       0.000  -1.360 -0.073  2.536  1.378  ... -0.189  0.134 -0.021 149.620      0\n",
              "1       0.000   1.192  0.266  0.166  0.448  ...  0.126 -0.009  0.015   2.690      0\n",
              "2       0.000  -1.358 -1.340  1.773  0.380  ... -0.139 -0.055 -0.060 378.660      0\n",
              "3       0.000  -0.966 -0.185  1.793 -0.863  ... -0.222  0.063  0.061 123.500      0\n",
              "4       0.001  -1.158  0.878  1.549  0.403  ...  0.502  0.219  0.215  69.990      0\n",
              "...       ...     ...    ...    ...    ...  ...    ...    ...    ...     ...    ...\n",
              "284802 23.996 -11.881 10.072 -9.835 -2.067  ...  0.250  0.944  0.824   0.770      0\n",
              "284803 23.996  -0.733 -0.055  2.035 -0.739  ... -0.395  0.068 -0.054  24.790      0\n",
              "284804 23.997   1.920 -0.301 -3.250 -0.558  ... -0.087  0.004 -0.027  67.880      0\n",
              "284805 23.997  -0.240  0.530  0.703  0.690  ...  0.547  0.109  0.105  10.000      0\n",
              "284806 23.998  -0.533 -0.190  0.703 -0.506  ... -0.818 -0.002  0.014 217.000      0\n",
              "\n",
              "[284807 rows x 31 columns]"
            ]
          },
          "metadata": {
            "tags": []
          },
          "execution_count": 4
        }
      ]
    },
    {
      "cell_type": "markdown",
      "metadata": {
        "id": "abAEXOXJmz1g"
      },
      "source": [
        "#Visualise Raw data#"
      ]
    },
    {
      "cell_type": "code",
      "metadata": {
        "id": "oFFnpJQGm6Mc",
        "colab": {
          "base_uri": "https://localhost:8080/",
          "height": 482
        },
        "outputId": "2c4154c1-53df-4ccf-ab0b-7278de73828d"
      },
      "source": [
        "non_fraud = df[df['Class'] == 0].sample(1000)\r\n",
        "fraud = df[df['Class'] == 1]\r\n",
        "\r\n",
        "visualisation_sample = non_fraud.append(fraud).sample(frac=1).reset_index(drop=True)\r\n",
        "tsne_plot(visualisation_sample.drop(['Class'], axis = 1).values, visualisation_sample[\"Class\"].values)"
      ],
      "execution_count": null,
      "outputs": [
        {
          "output_type": "display_data",
          "data": {
            "image/png": "[encoded data removed]",
            "text/plain": [
              "<Figure size 864x576 with 1 Axes>"
            ]
          },
          "metadata": {
            "tags": [],
            "needs_background": "light"
          }
        }
      ]
    },
    {
      "cell_type": "markdown",
      "metadata": {
        "id": "200aIbvrhN7q"
      },
      "source": [
        "Transform features by scaling each feature to a given range.\r\n",
        "\r\n",
        "This estimator scales and translates each feature individually such that it is in the given range on the training set, e.g. between zero and one.\r\n",
        "\r\n",
        "The transformation is given by:\r\n",
        "\r\n",
        "X_std = (X - X.min(axis=0)) / (X.max(axis=0) - X.min(axis=0))\r\n",
        "X_scaled = X_std * (max - min) + min\r\n",
        "where min, max = feature_range.\r\n",
        "\r\n",
        "This transformation is often used as an alternative to zero mean, unit variance scaling."
      ]
    },
    {
      "cell_type": "code",
      "metadata": {
        "id": "zmMxPj_-B4qn"
      },
      "source": [
        "df.loc[:, df.columns != 'Class'] = preprocessing.MinMaxScaler().fit_transform(df.loc[:, df.columns != 'Class'].values) # scaling"
      ],
      "execution_count": null,
      "outputs": []
    },
    {
      "cell_type": "code",
      "metadata": {
        "id": "Vi64pmLACzBP",
        "colab": {
          "base_uri": "https://localhost:8080/",
          "height": 392
        },
        "outputId": "0137a1e7-e7a3-4b0d-f1b9-299ef024360b"
      },
      "source": [
        "df"
      ],
      "execution_count": null,
      "outputs": [
        {
          "output_type": "execute_result",
          "data": {
            "text/html": [
              "<div>\n",
              "<style scoped>\n",
              "    .dataframe tbody tr th:only-of-type {\n",
              "        vertical-align: middle;\n",
              "    }\n",
              "\n",
              "    .dataframe tbody tr th {\n",
              "        vertical-align: top;\n",
              "    }\n",
              "\n",
              "    .dataframe thead th {\n",
              "        text-align: right;\n",
              "    }\n",
              "</style>\n",
              "<table border=\"1\" class=\"dataframe\">\n",
              "  <thead>\n",
              "    <tr style=\"text-align: right;\">\n",
              "      <th></th>\n",
              "      <th>Time</th>\n",
              "      <th>V1</th>\n",
              "      <th>V2</th>\n",
              "      <th>V3</th>\n",
              "      <th>V4</th>\n",
              "      <th>V5</th>\n",
              "      <th>V6</th>\n",
              "      <th>V7</th>\n",
              "      <th>V8</th>\n",
              "      <th>V9</th>\n",
              "      <th>V10</th>\n",
              "      <th>V11</th>\n",
              "      <th>V12</th>\n",
              "      <th>V13</th>\n",
              "      <th>V14</th>\n",
              "      <th>V15</th>\n",
              "      <th>V16</th>\n",
              "      <th>V17</th>\n",
              "      <th>V18</th>\n",
              "      <th>V19</th>\n",
              "      <th>V20</th>\n",
              "      <th>V21</th>\n",
              "      <th>V22</th>\n",
              "      <th>V23</th>\n",
              "      <th>V24</th>\n",
              "      <th>V25</th>\n",
              "      <th>V26</th>\n",
              "      <th>V27</th>\n",
              "      <th>V28</th>\n",
              "      <th>Amount</th>\n",
              "      <th>Class</th>\n",
              "    </tr>\n",
              "  </thead>\n",
              "  <tbody>\n",
              "    <tr>\n",
              "      <th>0</th>\n",
              "      <td>0.000</td>\n",
              "      <td>0.935</td>\n",
              "      <td>0.766</td>\n",
              "      <td>0.881</td>\n",
              "      <td>0.313</td>\n",
              "      <td>0.763</td>\n",
              "      <td>0.268</td>\n",
              "      <td>0.267</td>\n",
              "      <td>0.786</td>\n",
              "      <td>0.475</td>\n",
              "      <td>0.511</td>\n",
              "      <td>0.252</td>\n",
              "      <td>0.681</td>\n",
              "      <td>0.372</td>\n",
              "      <td>0.636</td>\n",
              "      <td>0.446</td>\n",
              "      <td>0.434</td>\n",
              "      <td>0.737</td>\n",
              "      <td>0.655</td>\n",
              "      <td>0.595</td>\n",
              "      <td>0.583</td>\n",
              "      <td>0.561</td>\n",
              "      <td>0.523</td>\n",
              "      <td>0.664</td>\n",
              "      <td>0.391</td>\n",
              "      <td>0.585</td>\n",
              "      <td>0.395</td>\n",
              "      <td>0.419</td>\n",
              "      <td>0.313</td>\n",
              "      <td>0.006</td>\n",
              "      <td>0</td>\n",
              "    </tr>\n",
              "    <tr>\n",
              "      <th>1</th>\n",
              "      <td>0.000</td>\n",
              "      <td>0.979</td>\n",
              "      <td>0.770</td>\n",
              "      <td>0.840</td>\n",
              "      <td>0.272</td>\n",
              "      <td>0.766</td>\n",
              "      <td>0.262</td>\n",
              "      <td>0.265</td>\n",
              "      <td>0.786</td>\n",
              "      <td>0.454</td>\n",
              "      <td>0.505</td>\n",
              "      <td>0.381</td>\n",
              "      <td>0.744</td>\n",
              "      <td>0.486</td>\n",
              "      <td>0.641</td>\n",
              "      <td>0.384</td>\n",
              "      <td>0.464</td>\n",
              "      <td>0.728</td>\n",
              "      <td>0.641</td>\n",
              "      <td>0.552</td>\n",
              "      <td>0.580</td>\n",
              "      <td>0.558</td>\n",
              "      <td>0.480</td>\n",
              "      <td>0.667</td>\n",
              "      <td>0.336</td>\n",
              "      <td>0.587</td>\n",
              "      <td>0.446</td>\n",
              "      <td>0.416</td>\n",
              "      <td>0.313</td>\n",
              "      <td>0.000</td>\n",
              "      <td>0</td>\n",
              "    </tr>\n",
              "    <tr>\n",
              "      <th>2</th>\n",
              "      <td>0.000</td>\n",
              "      <td>0.935</td>\n",
              "      <td>0.753</td>\n",
              "      <td>0.868</td>\n",
              "      <td>0.269</td>\n",
              "      <td>0.762</td>\n",
              "      <td>0.281</td>\n",
              "      <td>0.270</td>\n",
              "      <td>0.788</td>\n",
              "      <td>0.411</td>\n",
              "      <td>0.513</td>\n",
              "      <td>0.322</td>\n",
              "      <td>0.707</td>\n",
              "      <td>0.504</td>\n",
              "      <td>0.640</td>\n",
              "      <td>0.512</td>\n",
              "      <td>0.357</td>\n",
              "      <td>0.763</td>\n",
              "      <td>0.645</td>\n",
              "      <td>0.387</td>\n",
              "      <td>0.586</td>\n",
              "      <td>0.565</td>\n",
              "      <td>0.546</td>\n",
              "      <td>0.679</td>\n",
              "      <td>0.289</td>\n",
              "      <td>0.560</td>\n",
              "      <td>0.403</td>\n",
              "      <td>0.415</td>\n",
              "      <td>0.312</td>\n",
              "      <td>0.015</td>\n",
              "      <td>0</td>\n",
              "    </tr>\n",
              "    <tr>\n",
              "      <th>3</th>\n",
              "      <td>0.000</td>\n",
              "      <td>0.942</td>\n",
              "      <td>0.765</td>\n",
              "      <td>0.868</td>\n",
              "      <td>0.214</td>\n",
              "      <td>0.766</td>\n",
              "      <td>0.276</td>\n",
              "      <td>0.267</td>\n",
              "      <td>0.789</td>\n",
              "      <td>0.415</td>\n",
              "      <td>0.508</td>\n",
              "      <td>0.272</td>\n",
              "      <td>0.711</td>\n",
              "      <td>0.488</td>\n",
              "      <td>0.636</td>\n",
              "      <td>0.289</td>\n",
              "      <td>0.416</td>\n",
              "      <td>0.711</td>\n",
              "      <td>0.788</td>\n",
              "      <td>0.467</td>\n",
              "      <td>0.578</td>\n",
              "      <td>0.560</td>\n",
              "      <td>0.510</td>\n",
              "      <td>0.663</td>\n",
              "      <td>0.224</td>\n",
              "      <td>0.614</td>\n",
              "      <td>0.389</td>\n",
              "      <td>0.418</td>\n",
              "      <td>0.314</td>\n",
              "      <td>0.005</td>\n",
              "      <td>0</td>\n",
              "    </tr>\n",
              "    <tr>\n",
              "      <th>4</th>\n",
              "      <td>0.000</td>\n",
              "      <td>0.939</td>\n",
              "      <td>0.777</td>\n",
              "      <td>0.864</td>\n",
              "      <td>0.270</td>\n",
              "      <td>0.763</td>\n",
              "      <td>0.264</td>\n",
              "      <td>0.269</td>\n",
              "      <td>0.782</td>\n",
              "      <td>0.491</td>\n",
              "      <td>0.524</td>\n",
              "      <td>0.236</td>\n",
              "      <td>0.724</td>\n",
              "      <td>0.553</td>\n",
              "      <td>0.608</td>\n",
              "      <td>0.349</td>\n",
              "      <td>0.435</td>\n",
              "      <td>0.724</td>\n",
              "      <td>0.651</td>\n",
              "      <td>0.626</td>\n",
              "      <td>0.585</td>\n",
              "      <td>0.561</td>\n",
              "      <td>0.547</td>\n",
              "      <td>0.663</td>\n",
              "      <td>0.401</td>\n",
              "      <td>0.566</td>\n",
              "      <td>0.507</td>\n",
              "      <td>0.421</td>\n",
              "      <td>0.317</td>\n",
              "      <td>0.003</td>\n",
              "      <td>0</td>\n",
              "    </tr>\n",
              "    <tr>\n",
              "      <th>...</th>\n",
              "      <td>...</td>\n",
              "      <td>...</td>\n",
              "      <td>...</td>\n",
              "      <td>...</td>\n",
              "      <td>...</td>\n",
              "      <td>...</td>\n",
              "      <td>...</td>\n",
              "      <td>...</td>\n",
              "      <td>...</td>\n",
              "      <td>...</td>\n",
              "      <td>...</td>\n",
              "      <td>...</td>\n",
              "      <td>...</td>\n",
              "      <td>...</td>\n",
              "      <td>...</td>\n",
              "      <td>...</td>\n",
              "      <td>...</td>\n",
              "      <td>...</td>\n",
              "      <td>...</td>\n",
              "      <td>...</td>\n",
              "      <td>...</td>\n",
              "      <td>...</td>\n",
              "      <td>...</td>\n",
              "      <td>...</td>\n",
              "      <td>...</td>\n",
              "      <td>...</td>\n",
              "      <td>...</td>\n",
              "      <td>...</td>\n",
              "      <td>...</td>\n",
              "      <td>...</td>\n",
              "      <td>...</td>\n",
              "    </tr>\n",
              "    <tr>\n",
              "      <th>284802</th>\n",
              "      <td>1.000</td>\n",
              "      <td>0.756</td>\n",
              "      <td>0.874</td>\n",
              "      <td>0.667</td>\n",
              "      <td>0.160</td>\n",
              "      <td>0.730</td>\n",
              "      <td>0.237</td>\n",
              "      <td>0.235</td>\n",
              "      <td>0.864</td>\n",
              "      <td>0.529</td>\n",
              "      <td>0.599</td>\n",
              "      <td>0.191</td>\n",
              "      <td>0.806</td>\n",
              "      <td>0.395</td>\n",
              "      <td>0.802</td>\n",
              "      <td>0.267</td>\n",
              "      <td>0.485</td>\n",
              "      <td>0.789</td>\n",
              "      <td>0.688</td>\n",
              "      <td>0.510</td>\n",
              "      <td>0.596</td>\n",
              "      <td>0.565</td>\n",
              "      <td>0.515</td>\n",
              "      <td>0.680</td>\n",
              "      <td>0.314</td>\n",
              "      <td>0.659</td>\n",
              "      <td>0.466</td>\n",
              "      <td>0.434</td>\n",
              "      <td>0.330</td>\n",
              "      <td>0.000</td>\n",
              "      <td>0</td>\n",
              "    </tr>\n",
              "    <tr>\n",
              "      <th>284803</th>\n",
              "      <td>1.000</td>\n",
              "      <td>0.946</td>\n",
              "      <td>0.767</td>\n",
              "      <td>0.873</td>\n",
              "      <td>0.219</td>\n",
              "      <td>0.772</td>\n",
              "      <td>0.274</td>\n",
              "      <td>0.266</td>\n",
              "      <td>0.789</td>\n",
              "      <td>0.483</td>\n",
              "      <td>0.489</td>\n",
              "      <td>0.276</td>\n",
              "      <td>0.739</td>\n",
              "      <td>0.542</td>\n",
              "      <td>0.623</td>\n",
              "      <td>0.423</td>\n",
              "      <td>0.427</td>\n",
              "      <td>0.730</td>\n",
              "      <td>0.569</td>\n",
              "      <td>0.443</td>\n",
              "      <td>0.581</td>\n",
              "      <td>0.565</td>\n",
              "      <td>0.553</td>\n",
              "      <td>0.666</td>\n",
              "      <td>0.245</td>\n",
              "      <td>0.544</td>\n",
              "      <td>0.361</td>\n",
              "      <td>0.418</td>\n",
              "      <td>0.312</td>\n",
              "      <td>0.001</td>\n",
              "      <td>0</td>\n",
              "    </tr>\n",
              "    <tr>\n",
              "      <th>284804</th>\n",
              "      <td>1.000</td>\n",
              "      <td>0.991</td>\n",
              "      <td>0.764</td>\n",
              "      <td>0.781</td>\n",
              "      <td>0.227</td>\n",
              "      <td>0.783</td>\n",
              "      <td>0.293</td>\n",
              "      <td>0.264</td>\n",
              "      <td>0.793</td>\n",
              "      <td>0.478</td>\n",
              "      <td>0.499</td>\n",
              "      <td>0.310</td>\n",
              "      <td>0.707</td>\n",
              "      <td>0.434</td>\n",
              "      <td>0.629</td>\n",
              "      <td>0.436</td>\n",
              "      <td>0.454</td>\n",
              "      <td>0.740</td>\n",
              "      <td>0.681</td>\n",
              "      <td>0.518</td>\n",
              "      <td>0.580</td>\n",
              "      <td>0.565</td>\n",
              "      <td>0.537</td>\n",
              "      <td>0.665</td>\n",
              "      <td>0.468</td>\n",
              "      <td>0.593</td>\n",
              "      <td>0.411</td>\n",
              "      <td>0.417</td>\n",
              "      <td>0.313</td>\n",
              "      <td>0.003</td>\n",
              "      <td>0</td>\n",
              "    </tr>\n",
              "    <tr>\n",
              "      <th>284805</th>\n",
              "      <td>1.000</td>\n",
              "      <td>0.954</td>\n",
              "      <td>0.773</td>\n",
              "      <td>0.850</td>\n",
              "      <td>0.283</td>\n",
              "      <td>0.763</td>\n",
              "      <td>0.269</td>\n",
              "      <td>0.261</td>\n",
              "      <td>0.793</td>\n",
              "      <td>0.476</td>\n",
              "      <td>0.500</td>\n",
              "      <td>0.170</td>\n",
              "      <td>0.668</td>\n",
              "      <td>0.368</td>\n",
              "      <td>0.661</td>\n",
              "      <td>0.483</td>\n",
              "      <td>0.430</td>\n",
              "      <td>0.746</td>\n",
              "      <td>0.730</td>\n",
              "      <td>0.790</td>\n",
              "      <td>0.582</td>\n",
              "      <td>0.566</td>\n",
              "      <td>0.547</td>\n",
              "      <td>0.663</td>\n",
              "      <td>0.399</td>\n",
              "      <td>0.546</td>\n",
              "      <td>0.515</td>\n",
              "      <td>0.419</td>\n",
              "      <td>0.315</td>\n",
              "      <td>0.000</td>\n",
              "      <td>0</td>\n",
              "    </tr>\n",
              "    <tr>\n",
              "      <th>284806</th>\n",
              "      <td>1.000</td>\n",
              "      <td>0.949</td>\n",
              "      <td>0.765</td>\n",
              "      <td>0.850</td>\n",
              "      <td>0.229</td>\n",
              "      <td>0.766</td>\n",
              "      <td>0.256</td>\n",
              "      <td>0.275</td>\n",
              "      <td>0.781</td>\n",
              "      <td>0.480</td>\n",
              "      <td>0.490</td>\n",
              "      <td>0.223</td>\n",
              "      <td>0.703</td>\n",
              "      <td>0.434</td>\n",
              "      <td>0.643</td>\n",
              "      <td>0.339</td>\n",
              "      <td>0.440</td>\n",
              "      <td>0.712</td>\n",
              "      <td>0.665</td>\n",
              "      <td>0.543</td>\n",
              "      <td>0.584</td>\n",
              "      <td>0.566</td>\n",
              "      <td>0.540</td>\n",
              "      <td>0.671</td>\n",
              "      <td>0.383</td>\n",
              "      <td>0.551</td>\n",
              "      <td>0.292</td>\n",
              "      <td>0.416</td>\n",
              "      <td>0.313</td>\n",
              "      <td>0.008</td>\n",
              "      <td>0</td>\n",
              "    </tr>\n",
              "  </tbody>\n",
              "</table>\n",
              "<p>284807 rows × 31 columns</p>\n",
              "</div>"
            ],
            "text/plain": [
              "        Time    V1    V2    V3    V4  ...   V26   V27   V28  Amount  Class\n",
              "0      0.000 0.935 0.766 0.881 0.313  ... 0.395 0.419 0.313   0.006      0\n",
              "1      0.000 0.979 0.770 0.840 0.272  ... 0.446 0.416 0.313   0.000      0\n",
              "2      0.000 0.935 0.753 0.868 0.269  ... 0.403 0.415 0.312   0.015      0\n",
              "3      0.000 0.942 0.765 0.868 0.214  ... 0.389 0.418 0.314   0.005      0\n",
              "4      0.000 0.939 0.777 0.864 0.270  ... 0.507 0.421 0.317   0.003      0\n",
              "...      ...   ...   ...   ...   ...  ...   ...   ...   ...     ...    ...\n",
              "284802 1.000 0.756 0.874 0.667 0.160  ... 0.466 0.434 0.330   0.000      0\n",
              "284803 1.000 0.946 0.767 0.873 0.219  ... 0.361 0.418 0.312   0.001      0\n",
              "284804 1.000 0.991 0.764 0.781 0.227  ... 0.411 0.417 0.313   0.003      0\n",
              "284805 1.000 0.954 0.773 0.850 0.283  ... 0.515 0.419 0.315   0.000      0\n",
              "284806 1.000 0.949 0.765 0.850 0.229  ... 0.292 0.416 0.313   0.008      0\n",
              "\n",
              "[284807 rows x 31 columns]"
            ]
          },
          "metadata": {
            "tags": []
          },
          "execution_count": 7
        }
      ]
    },
    {
      "cell_type": "markdown",
      "metadata": {
        "id": "gSBx3RrriSre"
      },
      "source": [
        "#Train Test Split and Exploration #"
      ]
    },
    {
      "cell_type": "code",
      "metadata": {
        "id": "EHV7KVV1ldkn"
      },
      "source": [
        "test_df = df.sample(30000, random_state = 10) # random validation 30000 samples, used as a test set (approx 10%)\n",
        "df = df.drop(test_df.index) # our train dataframe now does not contain the test df"
      ],
      "execution_count": null,
      "outputs": []
    },
    {
      "cell_type": "code",
      "metadata": {
        "id": "zL6uj4MKldkn"
      },
      "source": [
        "non_fraud_original_samples = df[df['Class'] == 0] # of train set\n",
        "fraud_original_samples = df[df['Class'] == 1] # of train set"
      ],
      "execution_count": null,
      "outputs": []
    },
    {
      "cell_type": "code",
      "metadata": {
        "id": "Cr1nDio3ldko",
        "colab": {
          "base_uri": "https://localhost:8080/"
        },
        "outputId": "8733cfd2-8432-4468-fe17-32b70f41d317"
      },
      "source": [
        "print('Total Fraud Samples are : ' + str(len(fraud_original_samples)))\n",
        "print('Total Non Fraud Samples are : ' + str(len(non_fraud_original_samples)))"
      ],
      "execution_count": null,
      "outputs": [
        {
          "output_type": "stream",
          "text": [
            "Total Fraud Samples are : 441\n",
            "Total Non Fraud Samples are : 254366\n"
          ],
          "name": "stdout"
        }
      ]
    },
    {
      "cell_type": "markdown",
      "metadata": {
        "id": "Ur6MtdzIil_F"
      },
      "source": [
        "# Random Under and OverSampling"
      ]
    },
    {
      "cell_type": "code",
      "metadata": {
        "id": "yUYvmIfCldko"
      },
      "source": [
        "def resample_data(non_fraud, fraud, sample_size, unbalanced=False):\n",
        "    # A function that receives the fraud and non fraud transcations with the desired sample size per class and returns X and Y\n",
        "    # doing upsampling and downsampling as necessary\n",
        "    non_fraud_sample = non_fraud.sample(sample_size + (unbalanced*sample_size*2), random_state=5)\n",
        "    fraud_sample = fraud.sample(sample_size, random_state=5, replace = (len(fraud) < sample_size))\n",
        "    df_sample = non_fraud_sample.append(fraud_sample).sample(frac=1).reset_index(drop=True)\n",
        "    Y_sample = df_sample[\"Class\"].values \n",
        "    X_sample = df_sample.drop(['Class'], axis = 1).values\n",
        "    return X_sample, Y_sample"
      ],
      "execution_count": null,
      "outputs": []
    },
    {
      "cell_type": "code",
      "metadata": {
        "id": "JJ47uTmVqXuP"
      },
      "source": [
        "def resample_by_SMOTE(X, y, over_percentage = 0.02, under_percentage = 1):\r\n",
        "    # A function that balances the dataset according to over and underpercentage using Artificial Sample generation using SMOTE\r\n",
        "    over = SMOTE(sampling_strategy=over_percentage)\r\n",
        "    under = RandomUnderSampler(sampling_strategy=under_percentage)\r\n",
        "    smote_pipeline = Pipeline(steps=[('o', over), ('u', under)])\r\n",
        "    return smote_pipeline.fit_resample(X, y)"
      ],
      "execution_count": null,
      "outputs": []
    },
    {
      "cell_type": "code",
      "metadata": {
        "id": "98CKqrVjldkp",
        "colab": {
          "base_uri": "https://localhost:8080/"
        },
        "outputId": "dac40011-6842-44b8-ecfe-4827e1cd8f37"
      },
      "source": [
        "# Undersampling Equal size - 441\n",
        "X_undersample, Y_undersample = resample_data(non_fraud_original_samples, fraud_original_samples, len(fraud_original_samples))\n",
        "print('Undersampling Data')\n",
        "print('Non Fraud Samples are : ' + str(np.count_nonzero(Y_undersample == NON_FRAUD)))\n",
        "print('Fraud Samples are : ' + str(np.count_nonzero(Y_undersample == FRAUD)))"
      ],
      "execution_count": null,
      "outputs": [
        {
          "output_type": "stream",
          "text": [
            "Undersampling Data\n",
            "Non Fraud Samples are : 441\n",
            "Fraud Samples are : 441\n"
          ],
          "name": "stdout"
        }
      ]
    },
    {
      "cell_type": "code",
      "metadata": {
        "id": "SAdyqv3s0ugm",
        "colab": {
          "base_uri": "https://localhost:8080/"
        },
        "outputId": "1e9b3de2-d1c7-4e93-fba4-e8080007cfbe"
      },
      "source": [
        "X_unbalanced, Y_unbalanced = resample_data(non_fraud_original_samples, fraud_original_samples, len(fraud_original_samples), unbalanced=True)\r\n",
        "print('Unbalanced Data 1 to 3')\r\n",
        "print('Non Fraud Samples are : ' + str(np.count_nonzero(Y_unbalanced == NON_FRAUD)))\r\n",
        "print('Fraud Samples are : ' + str(np.count_nonzero(Y_unbalanced == FRAUD)))"
      ],
      "execution_count": null,
      "outputs": [
        {
          "output_type": "stream",
          "text": [
            "Unbalanced Data\n",
            "Non Fraud Samples are : 1323\n",
            "Fraud Samples are : 441\n"
          ],
          "name": "stdout"
        }
      ]
    },
    {
      "cell_type": "code",
      "metadata": {
        "id": "wYDAz9sEldkp",
        "colab": {
          "base_uri": "https://localhost:8080/"
        },
        "outputId": "c4c2fdd4-54d0-4327-b151-45d4e4b4fc85"
      },
      "source": [
        "# Upsampling to - 1000 and downsampling\n",
        "X_1000, Y_1000 = resample_data(non_fraud_original_samples, fraud_original_samples, 1000)\n",
        "print('1000 Data Points')\n",
        "print('Non Fraud Samples are : ' + str(np.count_nonzero(Y_1000 == NON_FRAUD)))\n",
        "print('Fraud Samples are : ' + str(np.count_nonzero(Y_1000 == FRAUD)))"
      ],
      "execution_count": null,
      "outputs": [
        {
          "output_type": "stream",
          "text": [
            "1000 Data Points\n",
            "Non Fraud Samples are : 1000\n",
            "Fraud Samples are : 1000\n"
          ],
          "name": "stdout"
        }
      ]
    },
    {
      "cell_type": "code",
      "metadata": {
        "id": "UT-JcaEEldkp",
        "colab": {
          "base_uri": "https://localhost:8080/"
        },
        "outputId": "30de611d-8702-4b6b-accd-0b5468a07169"
      },
      "source": [
        "# Upsampling to - 2000 and downsampling\n",
        "X_2000, Y_2000 = resample_data(non_fraud_original_samples, fraud_original_samples, 2000)\n",
        "print('2000 Data ')\n",
        "print('Non Fraud Samples are : ' + str(np.count_nonzero(Y_2000 == NON_FRAUD)))\n",
        "print('Fraud Samples are : ' + str(np.count_nonzero(Y_2000 == FRAUD)))"
      ],
      "execution_count": null,
      "outputs": [
        {
          "output_type": "stream",
          "text": [
            "2000 Data \n",
            "Non Fraud Samples are : 2000\n",
            "Fraud Samples are : 2000\n"
          ],
          "name": "stdout"
        }
      ]
    },
    {
      "cell_type": "markdown",
      "metadata": {
        "id": "nR-ouqL8r9V4"
      },
      "source": [
        "#SMOTE - Synthetic Minority Over-sampling Technique Sampling Experiments"
      ]
    },
    {
      "cell_type": "code",
      "metadata": {
        "colab": {
          "base_uri": "https://localhost:8080/"
        },
        "id": "g85lTnc06dG3",
        "outputId": "fee11678-92b6-4519-cdc9-5ce9b478a5f6"
      },
      "source": [
        "X_smote_1000_11, Y_smote_1000_11 = resample_by_SMOTE(df.drop(['Class'], axis = 1).values, df['Class'].values, over_percentage = 0.004, under_percentage = 1)\r\n",
        "print('SMOTE Data')\r\n",
        "print('Non Fraud Samples are : ' + str(np.count_nonzero(Y_smote_1000_11 == NON_FRAUD)))\r\n",
        "print('Fraud Samples are : ' + str(np.count_nonzero(Y_smote_1000_11 == FRAUD)))"
      ],
      "execution_count": null,
      "outputs": [
        {
          "output_type": "stream",
          "text": [
            "SMOTE Data\n",
            "Non Fraud Samples are : 1017\n",
            "Fraud Samples are : 1017\n"
          ],
          "name": "stdout"
        },
        {
          "output_type": "stream",
          "text": [
            "/usr/local/lib/python3.6/dist-packages/sklearn/utils/deprecation.py:87: FutureWarning: Function safe_indexing is deprecated; safe_indexing is deprecated in version 0.22 and will be removed in version 0.24.\n",
            "  warnings.warn(msg, category=FutureWarning)\n",
            "/usr/local/lib/python3.6/dist-packages/sklearn/utils/deprecation.py:87: FutureWarning: Function safe_indexing is deprecated; safe_indexing is deprecated in version 0.22 and will be removed in version 0.24.\n",
            "  warnings.warn(msg, category=FutureWarning)\n"
          ],
          "name": "stderr"
        }
      ]
    },
    {
      "cell_type": "code",
      "metadata": {
        "colab": {
          "base_uri": "https://localhost:8080/"
        },
        "id": "0wKBWeUN7U0i",
        "outputId": "d7c5be91-6bee-4a5b-a783-e863313144ea"
      },
      "source": [
        "X_smote_1000_13, Y_smote_1000_13 = resample_by_SMOTE(df.drop(['Class'], axis = 1).values, df['Class'].values, over_percentage = 0.004, under_percentage = 0.33)\r\n",
        "print('SMOTE Data')\r\n",
        "print('Non Fraud Samples are : ' + str(np.count_nonzero(Y_smote_1000_13 == NON_FRAUD)))\r\n",
        "print('Fraud Samples are : ' + str(np.count_nonzero(Y_smote_1000_13 == FRAUD)))"
      ],
      "execution_count": null,
      "outputs": [
        {
          "output_type": "stream",
          "text": [
            "/usr/local/lib/python3.6/dist-packages/sklearn/utils/deprecation.py:87: FutureWarning: Function safe_indexing is deprecated; safe_indexing is deprecated in version 0.22 and will be removed in version 0.24.\n",
            "  warnings.warn(msg, category=FutureWarning)\n"
          ],
          "name": "stderr"
        },
        {
          "output_type": "stream",
          "text": [
            "SMOTE Data\n",
            "Non Fraud Samples are : 3081\n",
            "Fraud Samples are : 1017\n"
          ],
          "name": "stdout"
        },
        {
          "output_type": "stream",
          "text": [
            "/usr/local/lib/python3.6/dist-packages/sklearn/utils/deprecation.py:87: FutureWarning: Function safe_indexing is deprecated; safe_indexing is deprecated in version 0.22 and will be removed in version 0.24.\n",
            "  warnings.warn(msg, category=FutureWarning)\n"
          ],
          "name": "stderr"
        }
      ]
    },
    {
      "cell_type": "code",
      "metadata": {
        "colab": {
          "base_uri": "https://localhost:8080/"
        },
        "id": "_dyu1Z7e7o_f",
        "outputId": "b842504f-5e12-44de-a16b-5030ebac5327"
      },
      "source": [
        "X_smote_1000_110, Y_smote_1000_110 = resample_by_SMOTE(df.drop(['Class'], axis = 1).values, df['Class'].values, over_percentage = 0.004, under_percentage = 0.1)\r\n",
        "print('SMOTE Data')\r\n",
        "print('Non Fraud Samples are : ' + str(np.count_nonzero(Y_smote_1000_110 == NON_FRAUD)))\r\n",
        "print('Fraud Samples are : ' + str(np.count_nonzero(Y_smote_1000_110 == FRAUD)))"
      ],
      "execution_count": null,
      "outputs": [
        {
          "output_type": "stream",
          "text": [
            "/usr/local/lib/python3.6/dist-packages/sklearn/utils/deprecation.py:87: FutureWarning: Function safe_indexing is deprecated; safe_indexing is deprecated in version 0.22 and will be removed in version 0.24.\n",
            "  warnings.warn(msg, category=FutureWarning)\n"
          ],
          "name": "stderr"
        },
        {
          "output_type": "stream",
          "text": [
            "SMOTE Data\n",
            "Non Fraud Samples are : 10170\n",
            "Fraud Samples are : 1017\n"
          ],
          "name": "stdout"
        },
        {
          "output_type": "stream",
          "text": [
            "/usr/local/lib/python3.6/dist-packages/sklearn/utils/deprecation.py:87: FutureWarning: Function safe_indexing is deprecated; safe_indexing is deprecated in version 0.22 and will be removed in version 0.24.\n",
            "  warnings.warn(msg, category=FutureWarning)\n"
          ],
          "name": "stderr"
        }
      ]
    },
    {
      "cell_type": "markdown",
      "metadata": {
        "id": "3RC8gwY3jJcF"
      },
      "source": [
        "# Logistic Regression on Preprocessed Data"
      ]
    },
    {
      "cell_type": "code",
      "metadata": {
        "id": "yOe9D5O8jTNX",
        "colab": {
          "base_uri": "https://localhost:8080/"
        },
        "outputId": "91c79f11-1062-42c0-c012-bccbcb86c9b4"
      },
      "source": [
        "clf_unbalanced = LogisticRegression(random_state=2).fit(X_unbalanced, Y_unbalanced)\r\n",
        "predictions_unbalanced = clf_unbalanced.predict(test_df.drop(['Class'], axis = 1).values)\r\n",
        "print(classification_report(predictions_unbalanced, test_df[\"Class\"].values))"
      ],
      "execution_count": null,
      "outputs": [
        {
          "output_type": "stream",
          "text": [
            "              precision    recall  f1-score   support\n",
            "\n",
            "           0       1.00      1.00      1.00     29936\n",
            "           1       0.82      0.66      0.73        64\n",
            "\n",
            "    accuracy                           1.00     30000\n",
            "   macro avg       0.91      0.83      0.86     30000\n",
            "weighted avg       1.00      1.00      1.00     30000\n",
            "\n"
          ],
          "name": "stdout"
        }
      ]
    },
    {
      "cell_type": "code",
      "metadata": {
        "id": "mIFi78b8ldkq",
        "colab": {
          "base_uri": "https://localhost:8080/"
        },
        "outputId": "94bc6369-f9d0-4ef2-de6f-12340975ba4a"
      },
      "source": [
        "clf_under = LogisticRegression(random_state=2).fit(X_undersample, Y_undersample)\r\n",
        "predictions_undersample = clf_under.predict(test_df.drop(['Class'], axis = 1).values)\r\n",
        "print(classification_report(predictions_undersample, test_df[\"Class\"].values))"
      ],
      "execution_count": null,
      "outputs": [
        {
          "output_type": "stream",
          "text": [
            "              precision    recall  f1-score   support\n",
            "\n",
            "           0       1.00      1.00      1.00     29872\n",
            "           1       0.86      0.34      0.49       128\n",
            "\n",
            "    accuracy                           1.00     30000\n",
            "   macro avg       0.93      0.67      0.75     30000\n",
            "weighted avg       1.00      1.00      1.00     30000\n",
            "\n"
          ],
          "name": "stdout"
        }
      ]
    },
    {
      "cell_type": "code",
      "metadata": {
        "id": "-cyLjVsSeCNX",
        "colab": {
          "base_uri": "https://localhost:8080/"
        },
        "outputId": "f32075e7-8a5e-415f-e8b5-fe7219ed0d6c"
      },
      "source": [
        "clf_1000 = LogisticRegression(random_state=2).fit(X_1000, Y_1000)\r\n",
        "predictions_1000 = clf_1000.predict(test_df.drop(['Class'], axis = 1).values)\r\n",
        "print(classification_report(predictions_1000, test_df[\"Class\"].values))"
      ],
      "execution_count": null,
      "outputs": [
        {
          "output_type": "stream",
          "text": [
            "              precision    recall  f1-score   support\n",
            "\n",
            "           0       0.99      1.00      1.00     29782\n",
            "           1       0.90      0.21      0.34       218\n",
            "\n",
            "    accuracy                           0.99     30000\n",
            "   macro avg       0.95      0.61      0.67     30000\n",
            "weighted avg       0.99      0.99      0.99     30000\n",
            "\n"
          ],
          "name": "stdout"
        }
      ]
    },
    {
      "cell_type": "code",
      "metadata": {
        "id": "QBMqOBJqldkq",
        "colab": {
          "base_uri": "https://localhost:8080/"
        },
        "outputId": "f18d0926-8b8d-4a86-f5d5-58e888ee5fa6"
      },
      "source": [
        "clf_2000 = LogisticRegression(random_state=2).fit(X_2000, Y_2000)\r\n",
        "predictions_2000 = clf_2000.predict(test_df.drop(['Class'], axis = 1).values)\r\n",
        "print(classification_report(predictions_2000, test_df[\"Class\"].values))"
      ],
      "execution_count": null,
      "outputs": [
        {
          "output_type": "stream",
          "text": [
            "              precision    recall  f1-score   support\n",
            "\n",
            "           0       0.99      1.00      1.00     29703\n",
            "           1       0.90      0.15      0.26       297\n",
            "\n",
            "    accuracy                           0.99     30000\n",
            "   macro avg       0.95      0.58      0.63     30000\n",
            "weighted avg       0.99      0.99      0.99     30000\n",
            "\n"
          ],
          "name": "stdout"
        }
      ]
    },
    {
      "cell_type": "code",
      "metadata": {
        "colab": {
          "base_uri": "https://localhost:8080/"
        },
        "id": "UreaNWjC7CfR",
        "outputId": "d02250c9-8341-47df-a777-b81cc266397e"
      },
      "source": [
        "clf_smote_1000_11 = LogisticRegression(random_state=2).fit(X_smote_1000_11, Y_smote_1000_11)\r\n",
        "predictions_smote_1000_11 = clf_smote_1000_11.predict(test_df.drop(['Class'], axis = 1).values)\r\n",
        "print(classification_report(predictions_smote_1000_11, test_df[\"Class\"].values))"
      ],
      "execution_count": null,
      "outputs": [
        {
          "output_type": "stream",
          "text": [
            "              precision    recall  f1-score   support\n",
            "\n",
            "           0       0.99      1.00      1.00     29724\n",
            "           1       0.90      0.17      0.28       276\n",
            "\n",
            "    accuracy                           0.99     30000\n",
            "   macro avg       0.95      0.58      0.64     30000\n",
            "weighted avg       0.99      0.99      0.99     30000\n",
            "\n"
          ],
          "name": "stdout"
        }
      ]
    },
    {
      "cell_type": "code",
      "metadata": {
        "colab": {
          "base_uri": "https://localhost:8080/"
        },
        "id": "YiikTeCL7ReM",
        "outputId": "cb96e69b-0eca-4e5c-9d92-c9448cf4022b"
      },
      "source": [
        "clf_smote_1000_13 = LogisticRegression(random_state=2).fit(X_smote_1000_13, Y_smote_1000_13)\r\n",
        "predictions_smote_1000_13 = clf_smote_1000_13.predict(test_df.drop(['Class'], axis = 1).values)\r\n",
        "print(classification_report(predictions_smote_1000_13, test_df[\"Class\"].values))"
      ],
      "execution_count": null,
      "outputs": [
        {
          "output_type": "stream",
          "text": [
            "              precision    recall  f1-score   support\n",
            "\n",
            "           0       1.00      1.00      1.00     29900\n",
            "           1       0.86      0.44      0.58       100\n",
            "\n",
            "    accuracy                           1.00     30000\n",
            "   macro avg       0.93      0.72      0.79     30000\n",
            "weighted avg       1.00      1.00      1.00     30000\n",
            "\n"
          ],
          "name": "stdout"
        }
      ]
    },
    {
      "cell_type": "code",
      "metadata": {
        "colab": {
          "base_uri": "https://localhost:8080/"
        },
        "id": "LvmAv4LI73Sv",
        "outputId": "250b0a91-3a2a-43c0-8a73-9932defb89ee"
      },
      "source": [
        "clf_smote_1000_110 = LogisticRegression(random_state=2).fit(X_smote_1000_110, Y_smote_1000_110)\r\n",
        "predictions_smote_1000_110 = clf_smote_1000_110.predict(test_df.drop(['Class'], axis = 1).values)\r\n",
        "print(classification_report(predictions_smote_1000_110, test_df[\"Class\"].values))"
      ],
      "execution_count": null,
      "outputs": [
        {
          "output_type": "stream",
          "text": [
            "              precision    recall  f1-score   support\n",
            "\n",
            "           0       1.00      1.00      1.00     29939\n",
            "           1       0.82      0.69      0.75        61\n",
            "\n",
            "    accuracy                           1.00     30000\n",
            "   macro avg       0.91      0.84      0.87     30000\n",
            "weighted avg       1.00      1.00      1.00     30000\n",
            "\n"
          ],
          "name": "stdout"
        },
        {
          "output_type": "stream",
          "text": [
            "/usr/local/lib/python3.6/dist-packages/sklearn/linear_model/_logistic.py:940: ConvergenceWarning: lbfgs failed to converge (status=1):\n",
            "STOP: TOTAL NO. of ITERATIONS REACHED LIMIT.\n",
            "\n",
            "Increase the number of iterations (max_iter) or scale the data as shown in:\n",
            "    https://scikit-learn.org/stable/modules/preprocessing.html\n",
            "Please also refer to the documentation for alternative solver options:\n",
            "    https://scikit-learn.org/stable/modules/linear_model.html#logistic-regression\n",
            "  extra_warning_msg=_LOGISTIC_SOLVER_CONVERGENCE_MSG)\n"
          ],
          "name": "stderr"
        }
      ]
    },
    {
      "cell_type": "markdown",
      "metadata": {
        "id": "85gB2WdHj39W"
      },
      "source": [
        "#Autoencoder & Hidden Representations#"
      ]
    },
    {
      "cell_type": "code",
      "metadata": {
        "id": "Ch4I_Vi5ldkr"
      },
      "source": [
        "def create_autoencoder(X, enc_layers_size, dec_layers_size, enc_activation_functions, dec_activation_functions, final_activation_function = 'relu', epochs = 10, batch_size = 256):\n",
        "    # Creates a Tensorflow Sequential model to be used as a Deep Autoencoder for hidden representations\n",
        "    input_layer = Input(shape=(X.shape[1],))\n",
        "    \n",
        "    ## encoding part\n",
        "    callback = EarlyStopping(monitor = 'val_loss', mode='min', min_delta=0.0001, patience = 5)\n",
        "    encoded = Dense(enc_layers_size[0], activation = enc_activation_functions[0] , activity_regularizer=regularizers.l1(10e-5))(input_layer) \n",
        "    encoded = Dense(enc_layers_size[1], activation = enc_activation_functions[1])(encoded)\n",
        "\n",
        "    ## decoding part\n",
        "    decoded = Dense(dec_layers_size[0], activation = dec_activation_functions[0])(encoded)\n",
        "    decoded = Dense(dec_layers_size[1], activation = dec_activation_functions[1])(decoded)\n",
        "\n",
        "    ## output layer\n",
        "    output_layer = Dense(X.shape[1], activation = final_activation_function)(decoded)\n",
        "    autoencoder = Model(input_layer, output_layer)\n",
        "    autoencoder.compile(optimizer=\"adadelta\", loss=\"mse\")\n",
        "    out = autoencoder.fit(X, X, \n",
        "                batch_size = batch_size, epochs = epochs, \n",
        "                shuffle = True,callbacks=callback, validation_split = 0.10, verbose=False);\n",
        "    return out, autoencoder"
      ],
      "execution_count": null,
      "outputs": []
    },
    {
      "cell_type": "code",
      "metadata": {
        "id": "W_q4_aB7ldkr",
        "colab": {
          "base_uri": "https://localhost:8080/"
        },
        "outputId": "05dd69cc-dac6-4074-ad00-9f12b745a074"
      },
      "source": [
        "# establish example model\n",
        "encoder_data = non_fraud_original_samples.sample(2000).drop(['Class'], axis = 1).to_numpy()\n",
        "out ,autoencoder = create_autoencoder(\n",
        "    X = encoder_data,\n",
        "    enc_layers_size = [100, 50],\n",
        "    dec_layers_size = [50, 100],\n",
        "    enc_activation_functions = ['tanh', 'relu'],\n",
        "    dec_activation_functions = ['tanh', 'tanh'],\n",
        "    final_activation_function = 'relu',\n",
        "    epochs = 10,\n",
        "    batch_size = 256\n",
        ")\n",
        "autoencoder.summary()"
      ],
      "execution_count": null,
      "outputs": [
        {
          "output_type": "stream",
          "text": [
            "Model: \"model\"\n",
            "_________________________________________________________________\n",
            "Layer (type)                 Output Shape              Param #   \n",
            "=================================================================\n",
            "input_1 (InputLayer)         [(None, 30)]              0         \n",
            "_________________________________________________________________\n",
            "dense (Dense)                (None, 100)               3100      \n",
            "_________________________________________________________________\n",
            "dense_1 (Dense)              (None, 50)                5050      \n",
            "_________________________________________________________________\n",
            "dense_2 (Dense)              (None, 50)                2550      \n",
            "_________________________________________________________________\n",
            "dense_3 (Dense)              (None, 100)               5100      \n",
            "_________________________________________________________________\n",
            "dense_4 (Dense)              (None, 30)                3030      \n",
            "=================================================================\n",
            "Total params: 18,830\n",
            "Trainable params: 18,830\n",
            "Non-trainable params: 0\n",
            "_________________________________________________________________\n"
          ],
          "name": "stdout"
        }
      ]
    },
    {
      "cell_type": "code",
      "metadata": {
        "id": "P4mH4Y942rz-"
      },
      "source": [
        "hidden_representation = Sequential()\r\n",
        "hidden_representation.add(autoencoder.layers[0])\r\n",
        "hidden_representation.add(autoencoder.layers[1])\r\n",
        "hidden_representation.add(autoencoder.layers[2])"
      ],
      "execution_count": null,
      "outputs": []
    },
    {
      "cell_type": "markdown",
      "metadata": {
        "id": "Ozsl4TNukNxA"
      },
      "source": [
        "# Visualised Example Autoencoded Test Data #"
      ]
    },
    {
      "cell_type": "code",
      "metadata": {
        "id": "yVV1SBogKvZ8",
        "colab": {
          "base_uri": "https://localhost:8080/",
          "height": 482
        },
        "outputId": "d35321a4-4c39-4bc5-e9d2-b606e679a36f"
      },
      "source": [
        "test_sample = test_df[test_df['Class'] == 0].drop(['Class'], axis = 1).to_numpy()\r\n",
        "norm_hid_rep = hidden_representation.predict(test_sample)\r\n",
        "\r\n",
        "fraud_hid_rep = hidden_representation.predict(df[df['Class'] == 1].drop(['Class'], axis = 1).to_numpy())\r\n",
        "\r\n",
        "rep_x = np.append(norm_hid_rep, fraud_hid_rep, axis = 0)\r\n",
        "y_n = np.zeros(norm_hid_rep.shape[0])\r\n",
        "y_f = np.ones(fraud_hid_rep.shape[0])\r\n",
        "rep_y = np.append(y_n, y_f)\r\n",
        "tsne_plot(rep_x, rep_y, \"latent_representation.png\")"
      ],
      "execution_count": null,
      "outputs": [
        {
          "output_type": "display_data",
          "data": {
            "image/png": "[encoded data removed]",
            "text/plain": [
              "<Figure size 864x576 with 1 Axes>"
            ]
          },
          "metadata": {
            "tags": [],
            "needs_background": "light"
          }
        }
      ]
    },
    {
      "cell_type": "markdown",
      "metadata": {
        "id": "2VPCxl4Zlyd6"
      },
      "source": [
        "#Autoencoder experiments#"
      ]
    },
    {
      "cell_type": "code",
      "metadata": {
        "id": "Wy8vEOdQtUT4"
      },
      "source": [
        "def autoencode_and_classify(enc_samples, enc_epochs):\r\n",
        "    # Autoencode creation and experiment with Undersampling, Unbalanced (3 to 1) and Oversampling (1000, 2000, 5000)\r\n",
        "    encoder_data = non_fraud_original_samples.sample(enc_samples).drop(['Class'], axis = 1).to_numpy()\r\n",
        "    out ,autoencoder = create_autoencoder(\r\n",
        "        X = encoder_data,\r\n",
        "        enc_layers_size = [100, 50],\r\n",
        "        dec_layers_size = [50, 100],\r\n",
        "        enc_activation_functions = ['tanh', 'relu'],\r\n",
        "        dec_activation_functions = ['tanh', 'tanh'],\r\n",
        "        final_activation_function = 'relu',\r\n",
        "        epochs = enc_epochs,\r\n",
        "        batch_size = 256\r\n",
        "    )\r\n",
        "    # prepare hidden representations\r\n",
        "    hidden_representation = Sequential()\r\n",
        "    hidden_representation.add(autoencoder.layers[0])\r\n",
        "    hidden_representation.add(autoencoder.layers[1])\r\n",
        "    hidden_representation.add(autoencoder.layers[2])\r\n",
        "\r\n",
        "    hidden_representation_test = hidden_representation.predict(test_df.drop(['Class'], axis = 1).values)\r\n",
        "\r\n",
        "    unbalanced_train_enc = hidden_representation.predict(X_unbalanced)\r\n",
        "    undersample_train_enc = hidden_representation.predict(X_undersample)\r\n",
        "    X1000_train_enc = hidden_representation.predict(X_1000)\r\n",
        "    X2000_train_enc = hidden_representation.predict(X_2000)\r\n",
        "    X1000_13_smote_train_enc = hidden_representation.predict(X_smote_1000_13)\r\n",
        "    X1000_110_smote_train_enc = hidden_representation.predict(X_smote_1000_110)\r\n",
        "\r\n",
        "    # Conduct multiple experiments (as per print title)\r\n",
        "    print('Classification with Unbalanced Data (3 to 1) \\n')\r\n",
        "    log_clf_unbalanced = LogisticRegression(solver=\"lbfgs\").fit(unbalanced_train_enc, Y_unbalanced)\r\n",
        "    log_clf_unbalanced_predictions = log_clf_unbalanced.predict(hidden_representation_test)\r\n",
        "    print(classification_report(log_clf_unbalanced_predictions, test_df[\"Class\"].values))\r\n",
        "\r\n",
        "    print('Classification with Undersampling \\n')\r\n",
        "    log_clf_under = LogisticRegression(solver=\"lbfgs\").fit(undersample_train_enc, Y_undersample)\r\n",
        "    log_clf_under_predictions = log_clf_under.predict(hidden_representation_test)\r\n",
        "    print(classification_report(log_clf_under_predictions, test_df[\"Class\"].values))\r\n",
        "\r\n",
        "    print('Classification with Oversampling to 1000 \\n')\r\n",
        "    log_clf_X1000 = LogisticRegression(solver=\"lbfgs\").fit(X1000_train_enc, Y_1000)\r\n",
        "    log_clf_X1000_predictions = log_clf_X1000.predict(hidden_representation_test)\r\n",
        "    print(classification_report(log_clf_X1000_predictions, test_df[\"Class\"].values))\r\n",
        "\r\n",
        "    print('Classification with Oversampling to 2000 \\n')\r\n",
        "    log_clf_X2000 = LogisticRegression(solver=\"lbfgs\").fit(X2000_train_enc, Y_2000)\r\n",
        "    log_clf_X2000_predictions = log_clf_X2000.predict(hidden_representation_test)\r\n",
        "    print(classification_report(log_clf_X2000_predictions, test_df[\"Class\"].values))\r\n",
        "\r\n",
        "    print('Classification with SMOTE Oversampling to 1000 (1 to 3) \\n')\r\n",
        "    log_clf_X1000_smote_13 = LogisticRegression(solver=\"lbfgs\").fit(X1000_13_smote_train_enc, Y_smote_1000_13)\r\n",
        "    log_clf_X1000_smote_13_predictions = log_clf_X1000_smote_13.predict(hidden_representation_test)\r\n",
        "    print(classification_report(log_clf_X1000_smote_13_predictions, test_df[\"Class\"].values))\r\n",
        "\r\n",
        "    print('Classification with SMOTE Oversampling to 1000 (1 to 10) \\n')\r\n",
        "    log_clf_X1000_smote_110 = LogisticRegression(solver=\"lbfgs\").fit(X1000_110_smote_train_enc, Y_smote_1000_110)\r\n",
        "    log_clf_X1000_smote_110_predictions = log_clf_X1000_smote_110.predict(hidden_representation_test)\r\n",
        "    print(classification_report(log_clf_X1000_smote_110_predictions , test_df[\"Class\"].values))"
      ],
      "execution_count": null,
      "outputs": []
    },
    {
      "cell_type": "code",
      "metadata": {
        "id": "tEwdtJVJwA1_",
        "colab": {
          "base_uri": "https://localhost:8080/"
        },
        "outputId": "8369c6f4-b405-406d-c756-a951d1f17005"
      },
      "source": [
        "autoencode_and_classify(enc_samples = 2000, enc_epochs = 10)"
      ],
      "execution_count": null,
      "outputs": [
        {
          "output_type": "stream",
          "text": [
            "Classification with Unbalanced Data (3 to 1) \n",
            "\n",
            "              precision    recall  f1-score   support\n",
            "\n",
            "           0       1.00      1.00      1.00     29953\n",
            "           1       0.75      0.81      0.78        47\n",
            "\n",
            "    accuracy                           1.00     30000\n",
            "   macro avg       0.87      0.90      0.89     30000\n",
            "weighted avg       1.00      1.00      1.00     30000\n",
            "\n",
            "Classification with Undersampling \n",
            "\n",
            "              precision    recall  f1-score   support\n",
            "\n",
            "           0       1.00      1.00      1.00     29940\n",
            "           1       0.80      0.68      0.74        60\n",
            "\n",
            "    accuracy                           1.00     30000\n",
            "   macro avg       0.90      0.84      0.87     30000\n",
            "weighted avg       1.00      1.00      1.00     30000\n",
            "\n",
            "Classification with Oversampling to 1000 \n",
            "\n",
            "              precision    recall  f1-score   support\n",
            "\n",
            "           0       1.00      1.00      1.00     29928\n",
            "           1       0.80      0.57      0.67        72\n",
            "\n",
            "    accuracy                           1.00     30000\n",
            "   macro avg       0.90      0.78      0.83     30000\n",
            "weighted avg       1.00      1.00      1.00     30000\n",
            "\n",
            "Classification with Oversampling to 2000 \n",
            "\n",
            "              precision    recall  f1-score   support\n",
            "\n",
            "           0       1.00      1.00      1.00     29904\n",
            "           1       0.84      0.45      0.59        96\n",
            "\n",
            "    accuracy                           1.00     30000\n",
            "   macro avg       0.92      0.72      0.79     30000\n",
            "weighted avg       1.00      1.00      1.00     30000\n",
            "\n",
            "Classification with SMOTE Oversampling to 1000 (1 to 3) \n",
            "\n",
            "              precision    recall  f1-score   support\n",
            "\n",
            "           0       1.00      1.00      1.00     29949\n",
            "           1       0.78      0.78      0.78        51\n",
            "\n",
            "    accuracy                           1.00     30000\n",
            "   macro avg       0.89      0.89      0.89     30000\n",
            "weighted avg       1.00      1.00      1.00     30000\n",
            "\n",
            "Classification with SMOTE Oversampling to 1000 (1 to 10) \n",
            "\n",
            "              precision    recall  f1-score   support\n",
            "\n",
            "           0       1.00      1.00      1.00     29954\n",
            "           1       0.73      0.80      0.76        46\n",
            "\n",
            "    accuracy                           1.00     30000\n",
            "   macro avg       0.86      0.90      0.88     30000\n",
            "weighted avg       1.00      1.00      1.00     30000\n",
            "\n"
          ],
          "name": "stdout"
        }
      ]
    },
    {
      "cell_type": "code",
      "metadata": {
        "id": "O41muglTyFua",
        "colab": {
          "base_uri": "https://localhost:8080/"
        },
        "outputId": "d84a346b-06a6-451c-f3a9-4b988f922d8b"
      },
      "source": [
        "autoencode_and_classify(enc_samples = 3000, enc_epochs = 10)"
      ],
      "execution_count": null,
      "outputs": [
        {
          "output_type": "stream",
          "text": [
            "Classification with Unbalanced Data (3 to 1) \n",
            "\n",
            "              precision    recall  f1-score   support\n",
            "\n",
            "           0       1.00      1.00      1.00     29954\n",
            "           1       0.75      0.83      0.78        46\n",
            "\n",
            "    accuracy                           1.00     30000\n",
            "   macro avg       0.87      0.91      0.89     30000\n",
            "weighted avg       1.00      1.00      1.00     30000\n",
            "\n",
            "Classification with Undersampling \n",
            "\n",
            "              precision    recall  f1-score   support\n",
            "\n",
            "           0       1.00      1.00      1.00     29907\n",
            "           1       0.80      0.44      0.57        93\n",
            "\n",
            "    accuracy                           1.00     30000\n",
            "   macro avg       0.90      0.72      0.78     30000\n",
            "weighted avg       1.00      1.00      1.00     30000\n",
            "\n",
            "Classification with Oversampling to 1000 \n",
            "\n",
            "              precision    recall  f1-score   support\n",
            "\n",
            "           0       1.00      1.00      1.00     29891\n",
            "           1       0.86      0.40      0.55       109\n",
            "\n",
            "    accuracy                           1.00     30000\n",
            "   macro avg       0.93      0.70      0.77     30000\n",
            "weighted avg       1.00      1.00      1.00     30000\n",
            "\n",
            "Classification with Oversampling to 2000 \n",
            "\n",
            "              precision    recall  f1-score   support\n",
            "\n",
            "           0       1.00      1.00      1.00     29835\n",
            "           1       0.88      0.27      0.42       165\n",
            "\n",
            "    accuracy                           1.00     30000\n",
            "   macro avg       0.94      0.64      0.71     30000\n",
            "weighted avg       1.00      1.00      0.99     30000\n",
            "\n",
            "Classification with SMOTE Oversampling to 1000 (1 to 3) \n",
            "\n",
            "              precision    recall  f1-score   support\n",
            "\n",
            "           0       1.00      1.00      1.00     29943\n",
            "           1       0.78      0.70      0.74        57\n",
            "\n",
            "    accuracy                           1.00     30000\n",
            "   macro avg       0.89      0.85      0.87     30000\n",
            "weighted avg       1.00      1.00      1.00     30000\n",
            "\n",
            "Classification with SMOTE Oversampling to 1000 (1 to 10) \n",
            "\n",
            "              precision    recall  f1-score   support\n",
            "\n",
            "           0       1.00      1.00      1.00     29952\n",
            "           1       0.75      0.79      0.77        48\n",
            "\n",
            "    accuracy                           1.00     30000\n",
            "   macro avg       0.87      0.90      0.88     30000\n",
            "weighted avg       1.00      1.00      1.00     30000\n",
            "\n"
          ],
          "name": "stdout"
        }
      ]
    },
    {
      "cell_type": "code",
      "metadata": {
        "id": "kFtmGVjawnha",
        "colab": {
          "base_uri": "https://localhost:8080/"
        },
        "outputId": "be602206-9655-4417-9717-a3c2bd1bbe67"
      },
      "source": [
        "autoencode_and_classify(enc_samples = 5000, enc_epochs = 10)"
      ],
      "execution_count": null,
      "outputs": [
        {
          "output_type": "stream",
          "text": [
            "Classification with Unbalanced Data (3 to 1) \n",
            "\n",
            "              precision    recall  f1-score   support\n",
            "\n",
            "           0       1.00      1.00      1.00     29953\n",
            "           1       0.76      0.83      0.80        47\n",
            "\n",
            "    accuracy                           1.00     30000\n",
            "   macro avg       0.88      0.91      0.90     30000\n",
            "weighted avg       1.00      1.00      1.00     30000\n",
            "\n",
            "Classification with Undersampling \n",
            "\n",
            "              precision    recall  f1-score   support\n",
            "\n",
            "           0       1.00      1.00      1.00     29921\n",
            "           1       0.80      0.52      0.63        79\n",
            "\n",
            "    accuracy                           1.00     30000\n",
            "   macro avg       0.90      0.76      0.81     30000\n",
            "weighted avg       1.00      1.00      1.00     30000\n",
            "\n",
            "Classification with Oversampling to 1000 \n",
            "\n",
            "              precision    recall  f1-score   support\n",
            "\n",
            "           0       1.00      1.00      1.00     29904\n",
            "           1       0.82      0.44      0.57        96\n",
            "\n",
            "    accuracy                           1.00     30000\n",
            "   macro avg       0.91      0.72      0.79     30000\n",
            "weighted avg       1.00      1.00      1.00     30000\n",
            "\n",
            "Classification with Oversampling to 2000 \n",
            "\n",
            "              precision    recall  f1-score   support\n",
            "\n",
            "           0       1.00      1.00      1.00     29841\n",
            "           1       0.82      0.26      0.40       159\n",
            "\n",
            "    accuracy                           1.00     30000\n",
            "   macro avg       0.91      0.63      0.70     30000\n",
            "weighted avg       1.00      1.00      0.99     30000\n",
            "\n",
            "Classification with SMOTE Oversampling to 1000 (1 to 3) \n",
            "\n",
            "              precision    recall  f1-score   support\n",
            "\n",
            "           0       1.00      1.00      1.00     29947\n",
            "           1       0.78      0.75      0.77        53\n",
            "\n",
            "    accuracy                           1.00     30000\n",
            "   macro avg       0.89      0.88      0.88     30000\n",
            "weighted avg       1.00      1.00      1.00     30000\n",
            "\n",
            "Classification with SMOTE Oversampling to 1000 (1 to 10) \n",
            "\n",
            "              precision    recall  f1-score   support\n",
            "\n",
            "           0       1.00      1.00      1.00     29953\n",
            "           1       0.76      0.83      0.80        47\n",
            "\n",
            "    accuracy                           1.00     30000\n",
            "   macro avg       0.88      0.91      0.90     30000\n",
            "weighted avg       1.00      1.00      1.00     30000\n",
            "\n"
          ],
          "name": "stdout"
        }
      ]
    },
    {
      "cell_type": "code",
      "metadata": {
        "id": "09hskJhYxGZf",
        "colab": {
          "base_uri": "https://localhost:8080/"
        },
        "outputId": "03a3f1dc-3137-4123-d6bf-b70c5df3952d"
      },
      "source": [
        "autoencode_and_classify(enc_samples = 10000, enc_epochs = 10)"
      ],
      "execution_count": null,
      "outputs": [
        {
          "output_type": "stream",
          "text": [
            "Classification with Unbalanced Data (3 to 1) \n",
            "\n",
            "              precision    recall  f1-score   support\n",
            "\n",
            "           0       1.00      1.00      1.00     29954\n",
            "           1       0.75      0.83      0.78        46\n",
            "\n",
            "    accuracy                           1.00     30000\n",
            "   macro avg       0.87      0.91      0.89     30000\n",
            "weighted avg       1.00      1.00      1.00     30000\n",
            "\n",
            "Classification with Undersampling \n",
            "\n",
            "              precision    recall  f1-score   support\n",
            "\n",
            "           0       1.00      1.00      1.00     29867\n",
            "           1       0.78      0.30      0.43       133\n",
            "\n",
            "    accuracy                           1.00     30000\n",
            "   macro avg       0.89      0.65      0.72     30000\n",
            "weighted avg       1.00      1.00      1.00     30000\n",
            "\n",
            "Classification with Oversampling to 1000 \n",
            "\n",
            "              precision    recall  f1-score   support\n",
            "\n",
            "           0       1.00      1.00      1.00     29885\n",
            "           1       0.80      0.36      0.49       115\n",
            "\n",
            "    accuracy                           1.00     30000\n",
            "   macro avg       0.90      0.68      0.75     30000\n",
            "weighted avg       1.00      1.00      1.00     30000\n",
            "\n",
            "Classification with Oversampling to 2000 \n",
            "\n",
            "              precision    recall  f1-score   support\n",
            "\n",
            "           0       1.00      1.00      1.00     29872\n",
            "           1       0.80      0.32      0.46       128\n",
            "\n",
            "    accuracy                           1.00     30000\n",
            "   macro avg       0.90      0.66      0.73     30000\n",
            "weighted avg       1.00      1.00      1.00     30000\n",
            "\n",
            "Classification with SMOTE Oversampling to 1000 (1 to 3) \n",
            "\n",
            "              precision    recall  f1-score   support\n",
            "\n",
            "           0       1.00      1.00      1.00     29953\n",
            "           1       0.75      0.81      0.78        47\n",
            "\n",
            "    accuracy                           1.00     30000\n",
            "   macro avg       0.87      0.90      0.89     30000\n",
            "weighted avg       1.00      1.00      1.00     30000\n",
            "\n",
            "Classification with SMOTE Oversampling to 1000 (1 to 10) \n",
            "\n",
            "              precision    recall  f1-score   support\n",
            "\n",
            "           0       1.00      1.00      1.00     29958\n",
            "           1       0.71      0.86      0.77        42\n",
            "\n",
            "    accuracy                           1.00     30000\n",
            "   macro avg       0.85      0.93      0.89     30000\n",
            "weighted avg       1.00      1.00      1.00     30000\n",
            "\n"
          ],
          "name": "stdout"
        }
      ]
    },
    {
      "cell_type": "code",
      "metadata": {
        "id": "sB8lqdqLyIM6",
        "colab": {
          "base_uri": "https://localhost:8080/"
        },
        "outputId": "f59c1fbf-142d-4319-b056-9d1ff9d5f223"
      },
      "source": [
        "autoencode_and_classify(enc_samples = 30000, enc_epochs = 10)"
      ],
      "execution_count": null,
      "outputs": [
        {
          "output_type": "stream",
          "text": [
            "Classification with Unbalanced Data (3 to 1) \n",
            "\n",
            "              precision    recall  f1-score   support\n",
            "\n",
            "           0       1.00      1.00      1.00     29953\n",
            "           1       0.78      0.85      0.82        47\n",
            "\n",
            "    accuracy                           1.00     30000\n",
            "   macro avg       0.89      0.93      0.91     30000\n",
            "weighted avg       1.00      1.00      1.00     30000\n",
            "\n",
            "Classification with Undersampling \n",
            "\n",
            "              precision    recall  f1-score   support\n",
            "\n",
            "           0       1.00      1.00      1.00     29939\n",
            "           1       0.82      0.69      0.75        61\n",
            "\n",
            "    accuracy                           1.00     30000\n",
            "   macro avg       0.91      0.84      0.87     30000\n",
            "weighted avg       1.00      1.00      1.00     30000\n",
            "\n",
            "Classification with Oversampling to 1000 \n",
            "\n",
            "              precision    recall  f1-score   support\n",
            "\n",
            "           0       1.00      1.00      1.00     29913\n",
            "           1       0.84      0.49      0.62        87\n",
            "\n",
            "    accuracy                           1.00     30000\n",
            "   macro avg       0.92      0.75      0.81     30000\n",
            "weighted avg       1.00      1.00      1.00     30000\n",
            "\n",
            "Classification with Oversampling to 2000 \n",
            "\n",
            "              precision    recall  f1-score   support\n",
            "\n",
            "           0       1.00      1.00      1.00     29850\n",
            "           1       0.86      0.29      0.44       150\n",
            "\n",
            "    accuracy                           1.00     30000\n",
            "   macro avg       0.93      0.65      0.72     30000\n",
            "weighted avg       1.00      1.00      1.00     30000\n",
            "\n",
            "Classification with SMOTE Oversampling to 1000 (1 to 3) \n",
            "\n",
            "              precision    recall  f1-score   support\n",
            "\n",
            "           0       1.00      1.00      1.00     29944\n",
            "           1       0.82      0.75      0.79        56\n",
            "\n",
            "    accuracy                           1.00     30000\n",
            "   macro avg       0.91      0.87      0.89     30000\n",
            "weighted avg       1.00      1.00      1.00     30000\n",
            "\n",
            "Classification with SMOTE Oversampling to 1000 (1 to 10) \n",
            "\n",
            "              precision    recall  f1-score   support\n",
            "\n",
            "           0       1.00      1.00      1.00     29953\n",
            "           1       0.76      0.83      0.80        47\n",
            "\n",
            "    accuracy                           1.00     30000\n",
            "   macro avg       0.88      0.91      0.90     30000\n",
            "weighted avg       1.00      1.00      1.00     30000\n",
            "\n"
          ],
          "name": "stdout"
        }
      ]
    },
    {
      "cell_type": "code",
      "metadata": {
        "id": "8teiYDP2yihD",
        "colab": {
          "base_uri": "https://localhost:8080/"
        },
        "outputId": "9dcb2e5c-9dae-4638-f425-f1bf1bf6e0ce"
      },
      "source": [
        "autoencode_and_classify(enc_samples = 100000, enc_epochs = 150)"
      ],
      "execution_count": null,
      "outputs": [
        {
          "output_type": "stream",
          "text": [
            "Classification with Unbalanced Data (3 to 1) \n",
            "\n",
            "              precision    recall  f1-score   support\n",
            "\n",
            "           0       1.00      1.00      1.00     29955\n",
            "           1       0.73      0.82      0.77        45\n",
            "\n",
            "    accuracy                           1.00     30000\n",
            "   macro avg       0.86      0.91      0.89     30000\n",
            "weighted avg       1.00      1.00      1.00     30000\n",
            "\n",
            "Classification with Undersampling \n",
            "\n",
            "              precision    recall  f1-score   support\n",
            "\n",
            "           0       1.00      1.00      1.00     29915\n",
            "           1       0.78      0.47      0.59        85\n",
            "\n",
            "    accuracy                           1.00     30000\n",
            "   macro avg       0.89      0.74      0.79     30000\n",
            "weighted avg       1.00      1.00      1.00     30000\n",
            "\n",
            "Classification with Oversampling to 1000 \n",
            "\n",
            "              precision    recall  f1-score   support\n",
            "\n",
            "           0       1.00      1.00      1.00     29878\n",
            "           1       0.78      0.33      0.46       122\n",
            "\n",
            "    accuracy                           1.00     30000\n",
            "   macro avg       0.89      0.66      0.73     30000\n",
            "weighted avg       1.00      1.00      1.00     30000\n",
            "\n",
            "Classification with Oversampling to 2000 \n",
            "\n",
            "              precision    recall  f1-score   support\n",
            "\n",
            "           0       0.99      1.00      1.00     29758\n",
            "           1       0.86      0.18      0.30       242\n",
            "\n",
            "    accuracy                           0.99     30000\n",
            "   macro avg       0.93      0.59      0.65     30000\n",
            "weighted avg       0.99      0.99      0.99     30000\n",
            "\n",
            "Classification with SMOTE Oversampling to 1000 (1 to 3) \n",
            "\n",
            "              precision    recall  f1-score   support\n",
            "\n",
            "           0       1.00      1.00      1.00     29947\n",
            "           1       0.78      0.75      0.77        53\n",
            "\n",
            "    accuracy                           1.00     30000\n",
            "   macro avg       0.89      0.88      0.88     30000\n",
            "weighted avg       1.00      1.00      1.00     30000\n",
            "\n",
            "Classification with SMOTE Oversampling to 1000 (1 to 10) \n",
            "\n",
            "              precision    recall  f1-score   support\n",
            "\n",
            "           0       1.00      1.00      1.00     29955\n",
            "           1       0.73      0.82      0.77        45\n",
            "\n",
            "    accuracy                           1.00     30000\n",
            "   macro avg       0.86      0.91      0.89     30000\n",
            "weighted avg       1.00      1.00      1.00     30000\n",
            "\n"
          ],
          "name": "stdout"
        }
      ]
    },
    {
      "cell_type": "code",
      "metadata": {
        "id": "SuuWIu8Wzh09",
        "colab": {
          "base_uri": "https://localhost:8080/"
        },
        "outputId": "8344ced0-7b63-4764-e53c-8f69b41ba573"
      },
      "source": [
        "autoencode_and_classify(enc_samples = 200000, enc_epochs = 150)"
      ],
      "execution_count": null,
      "outputs": [
        {
          "output_type": "stream",
          "text": [
            "Classification with Unbalanced Data (3 to 1) \n",
            "\n",
            "              precision    recall  f1-score   support\n",
            "\n",
            "           0       1.00      1.00      1.00     29955\n",
            "           1       0.75      0.84      0.79        45\n",
            "\n",
            "    accuracy                           1.00     30000\n",
            "   macro avg       0.87      0.92      0.90     30000\n",
            "weighted avg       1.00      1.00      1.00     30000\n",
            "\n",
            "Classification with Undersampling \n",
            "\n",
            "              precision    recall  f1-score   support\n",
            "\n",
            "           0       1.00      1.00      1.00     29913\n",
            "           1       0.84      0.49      0.62        87\n",
            "\n",
            "    accuracy                           1.00     30000\n",
            "   macro avg       0.92      0.75      0.81     30000\n",
            "weighted avg       1.00      1.00      1.00     30000\n",
            "\n",
            "Classification with Oversampling to 1000 \n",
            "\n",
            "              precision    recall  f1-score   support\n",
            "\n",
            "           0       1.00      1.00      1.00     29868\n",
            "           1       0.84      0.33      0.47       132\n",
            "\n",
            "    accuracy                           1.00     30000\n",
            "   macro avg       0.92      0.66      0.73     30000\n",
            "weighted avg       1.00      1.00      1.00     30000\n",
            "\n",
            "Classification with Oversampling to 2000 \n",
            "\n",
            "              precision    recall  f1-score   support\n",
            "\n",
            "           0       1.00      1.00      1.00     29833\n",
            "           1       0.86      0.26      0.40       167\n",
            "\n",
            "    accuracy                           1.00     30000\n",
            "   macro avg       0.93      0.63      0.70     30000\n",
            "weighted avg       1.00      1.00      0.99     30000\n",
            "\n",
            "Classification with SMOTE Oversampling to 1000 (1 to 3) \n",
            "\n",
            "              precision    recall  f1-score   support\n",
            "\n",
            "           0       1.00      1.00      1.00     29944\n",
            "           1       0.80      0.73      0.77        56\n",
            "\n",
            "    accuracy                           1.00     30000\n",
            "   macro avg       0.90      0.87      0.88     30000\n",
            "weighted avg       1.00      1.00      1.00     30000\n",
            "\n",
            "Classification with SMOTE Oversampling to 1000 (1 to 10) \n",
            "\n",
            "              precision    recall  f1-score   support\n",
            "\n",
            "           0       1.00      1.00      1.00     29955\n",
            "           1       0.75      0.84      0.79        45\n",
            "\n",
            "    accuracy                           1.00     30000\n",
            "   macro avg       0.87      0.92      0.90     30000\n",
            "weighted avg       1.00      1.00      1.00     30000\n",
            "\n"
          ],
          "name": "stdout"
        }
      ]
    }
  ]
}